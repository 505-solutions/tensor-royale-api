{
  "cells": [
    {
      "cell_type": "markdown",
      "metadata": {
        "id": "04w3OowXkaQh"
      },
      "source": [
        "# Build Your Neural Network In Cairo 1.0 with Orion\n",
        "\n",
        "Orion is a dedicated Cairo-based library designed specifically to build machine learning models for ValidityML. Its purpose is to facilitate verifiable inference. For better performance we will operate with an 8-bit quantized model. In this tutorial, you will be guided on how to train your model using Quantized Aware Training using MNIST dataset, how to convert your pre-trained model to Cairo 1, and how to perform inference with Orion."
      ]
    },
    {
      "attachments": {},
      "cell_type": "markdown",
      "metadata": {},
      "source": [
        "## Install Dependecies, Rust, Cairo and Scarb\n",
        "Let's start by installing all dependecies."
      ]
    },
    {
      "cell_type": "code",
      "execution_count": 1,
      "metadata": {
        "id": "1Sfci39Llvii"
      },
      "outputs": [
        {
          "name": "stdout",
          "output_type": "stream",
          "text": [
            "Requirement already satisfied: numpy in /usr/local/lib/python3.11/site-packages (1.26.1)\n",
            "Requirement already satisfied: tensorflow in /usr/local/lib/python3.11/site-packages (2.15.0)\n",
            "Collecting tensorflow_model_optimization\n",
            "  Obtaining dependency information for tensorflow_model_optimization from https://files.pythonhosted.org/packages/5a/a0/f38c9ce977285d3f347f6d64cf227924fe9fc97d780d6df4a55563e311af/tensorflow_model_optimization-0.8.0-py2.py3-none-any.whl.metadata\n",
            "  Downloading tensorflow_model_optimization-0.8.0-py2.py3-none-any.whl.metadata (904 bytes)\n",
            "Requirement already satisfied: matplotlib in /usr/local/lib/python3.11/site-packages (3.8.0)\n",
            "Requirement already satisfied: scipy in /usr/local/lib/python3.11/site-packages (1.11.3)\n",
            "Requirement already satisfied: absl-py>=1.0.0 in /usr/local/lib/python3.11/site-packages (from tensorflow) (2.0.0)\n",
            "Requirement already satisfied: astunparse>=1.6.0 in /usr/local/lib/python3.11/site-packages (from tensorflow) (1.6.3)\n",
            "Requirement already satisfied: flatbuffers>=23.5.26 in /usr/local/lib/python3.11/site-packages (from tensorflow) (23.5.26)\n",
            "Requirement already satisfied: gast!=0.5.0,!=0.5.1,!=0.5.2,>=0.2.1 in /usr/local/lib/python3.11/site-packages (from tensorflow) (0.5.4)\n",
            "Requirement already satisfied: google-pasta>=0.1.1 in /usr/local/lib/python3.11/site-packages (from tensorflow) (0.2.0)\n",
            "Requirement already satisfied: h5py>=2.9.0 in /usr/local/lib/python3.11/site-packages (from tensorflow) (3.10.0)\n",
            "Requirement already satisfied: libclang>=13.0.0 in /usr/local/lib/python3.11/site-packages (from tensorflow) (16.0.6)\n",
            "Requirement already satisfied: ml-dtypes~=0.2.0 in /usr/local/lib/python3.11/site-packages (from tensorflow) (0.2.0)\n",
            "Requirement already satisfied: opt-einsum>=2.3.2 in /usr/local/lib/python3.11/site-packages (from tensorflow) (3.3.0)\n",
            "Requirement already satisfied: packaging in /usr/local/lib/python3.11/site-packages (from tensorflow) (23.2)\n",
            "Requirement already satisfied: protobuf!=4.21.0,!=4.21.1,!=4.21.2,!=4.21.3,!=4.21.4,!=4.21.5,<5.0.0dev,>=3.20.3 in /usr/local/lib/python3.11/site-packages (from tensorflow) (4.21.12)\n",
            "Requirement already satisfied: setuptools in /usr/local/lib/python3.11/site-packages (from tensorflow) (68.2.2)\n",
            "Requirement already satisfied: six>=1.12.0 in /usr/local/lib/python3.11/site-packages (from tensorflow) (1.16.0)\n",
            "Requirement already satisfied: termcolor>=1.1.0 in /usr/local/lib/python3.11/site-packages (from tensorflow) (2.4.0)\n",
            "Requirement already satisfied: typing-extensions>=3.6.6 in /usr/local/lib/python3.11/site-packages (from tensorflow) (4.8.0)\n",
            "Requirement already satisfied: wrapt<1.15,>=1.11.0 in /usr/local/lib/python3.11/site-packages (from tensorflow) (1.14.1)\n",
            "Requirement already satisfied: tensorflow-io-gcs-filesystem>=0.23.1 in /usr/local/lib/python3.11/site-packages (from tensorflow) (0.34.0)\n",
            "Requirement already satisfied: grpcio<2.0,>=1.24.3 in /usr/local/lib/python3.11/site-packages (from tensorflow) (1.60.0)\n",
            "Requirement already satisfied: tensorboard<2.16,>=2.15 in /usr/local/lib/python3.11/site-packages (from tensorflow) (2.15.1)\n",
            "Requirement already satisfied: tensorflow-estimator<2.16,>=2.15.0 in /usr/local/lib/python3.11/site-packages (from tensorflow) (2.15.0)\n",
            "Requirement already satisfied: keras<2.16,>=2.15.0 in /usr/local/lib/python3.11/site-packages (from tensorflow) (2.15.0)\n",
            "Collecting absl-py>=1.0.0 (from tensorflow)\n",
            "  Obtaining dependency information for absl-py>=1.0.0 from https://files.pythonhosted.org/packages/dd/87/de5c32fa1b1c6c3305d576e299801d8655c175ca9557019906247b994331/absl_py-1.4.0-py3-none-any.whl.metadata\n",
            "  Downloading absl_py-1.4.0-py3-none-any.whl.metadata (2.3 kB)\n",
            "Collecting dm-tree~=0.1.1 (from tensorflow_model_optimization)\n",
            "  Obtaining dependency information for dm-tree~=0.1.1 from https://files.pythonhosted.org/packages/b1/65/4f10a68dde5fa0c91043c9c899e9bc79b1657ba932d39a5f8525c0058e68/dm_tree-0.1.8-cp311-cp311-macosx_10_9_x86_64.whl.metadata\n",
            "  Downloading dm_tree-0.1.8-cp311-cp311-macosx_10_9_x86_64.whl.metadata (1.9 kB)\n",
            "Requirement already satisfied: contourpy>=1.0.1 in /usr/local/lib/python3.11/site-packages (from matplotlib) (1.1.1)\n",
            "Requirement already satisfied: cycler>=0.10 in /usr/local/lib/python3.11/site-packages (from matplotlib) (0.12.1)\n",
            "Requirement already satisfied: fonttools>=4.22.0 in /usr/local/lib/python3.11/site-packages (from matplotlib) (4.43.1)\n",
            "Requirement already satisfied: kiwisolver>=1.0.1 in /usr/local/lib/python3.11/site-packages (from matplotlib) (1.4.5)\n",
            "Requirement already satisfied: pillow>=6.2.0 in /usr/local/lib/python3.11/site-packages (from matplotlib) (10.1.0)\n",
            "Requirement already satisfied: pyparsing>=2.3.1 in /usr/local/lib/python3.11/site-packages (from matplotlib) (3.1.1)\n",
            "Requirement already satisfied: python-dateutil>=2.7 in /usr/local/lib/python3.11/site-packages (from matplotlib) (2.8.2)\n",
            "Requirement already satisfied: wheel<1.0,>=0.23.0 in /usr/local/lib/python3.11/site-packages (from astunparse>=1.6.0->tensorflow) (0.41.2)\n",
            "Requirement already satisfied: google-auth<3,>=1.6.3 in /usr/local/lib/python3.11/site-packages (from tensorboard<2.16,>=2.15->tensorflow) (2.25.2)\n",
            "Requirement already satisfied: google-auth-oauthlib<2,>=0.5 in /usr/local/lib/python3.11/site-packages (from tensorboard<2.16,>=2.15->tensorflow) (1.1.0)\n",
            "Requirement already satisfied: markdown>=2.6.8 in /usr/local/lib/python3.11/site-packages (from tensorboard<2.16,>=2.15->tensorflow) (3.5.1)\n",
            "Requirement already satisfied: requests<3,>=2.21.0 in /usr/local/lib/python3.11/site-packages (from tensorboard<2.16,>=2.15->tensorflow) (2.31.0)\n",
            "Requirement already satisfied: tensorboard-data-server<0.8.0,>=0.7.0 in /usr/local/lib/python3.11/site-packages (from tensorboard<2.16,>=2.15->tensorflow) (0.7.2)\n",
            "Requirement already satisfied: werkzeug>=1.0.1 in /usr/local/lib/python3.11/site-packages (from tensorboard<2.16,>=2.15->tensorflow) (3.0.1)\n",
            "Requirement already satisfied: cachetools<6.0,>=2.0.0 in /usr/local/lib/python3.11/site-packages (from google-auth<3,>=1.6.3->tensorboard<2.16,>=2.15->tensorflow) (5.3.2)\n",
            "Requirement already satisfied: pyasn1-modules>=0.2.1 in /usr/local/lib/python3.11/site-packages (from google-auth<3,>=1.6.3->tensorboard<2.16,>=2.15->tensorflow) (0.3.0)\n",
            "Requirement already satisfied: rsa<5,>=3.1.4 in /usr/local/lib/python3.11/site-packages (from google-auth<3,>=1.6.3->tensorboard<2.16,>=2.15->tensorflow) (4.9)\n",
            "Requirement already satisfied: requests-oauthlib>=0.7.0 in /usr/local/lib/python3.11/site-packages (from google-auth-oauthlib<2,>=0.5->tensorboard<2.16,>=2.15->tensorflow) (1.3.1)\n",
            "Requirement already satisfied: charset-normalizer<4,>=2 in /usr/local/lib/python3.11/site-packages (from requests<3,>=2.21.0->tensorboard<2.16,>=2.15->tensorflow) (3.3.1)\n",
            "Requirement already satisfied: idna<4,>=2.5 in /usr/local/lib/python3.11/site-packages (from requests<3,>=2.21.0->tensorboard<2.16,>=2.15->tensorflow) (3.4)\n",
            "Requirement already satisfied: urllib3<3,>=1.21.1 in /usr/local/lib/python3.11/site-packages (from requests<3,>=2.21.0->tensorboard<2.16,>=2.15->tensorflow) (2.0.7)\n",
            "Requirement already satisfied: certifi>=2017.4.17 in /usr/local/lib/python3.11/site-packages (from requests<3,>=2.21.0->tensorboard<2.16,>=2.15->tensorflow) (2023.7.22)\n",
            "Requirement already satisfied: MarkupSafe>=2.1.1 in /usr/local/lib/python3.11/site-packages (from werkzeug>=1.0.1->tensorboard<2.16,>=2.15->tensorflow) (2.1.3)\n",
            "Requirement already satisfied: pyasn1<0.6.0,>=0.4.6 in /usr/local/lib/python3.11/site-packages (from pyasn1-modules>=0.2.1->google-auth<3,>=1.6.3->tensorboard<2.16,>=2.15->tensorflow) (0.5.1)\n",
            "Requirement already satisfied: oauthlib>=3.0.0 in /usr/local/lib/python3.11/site-packages (from requests-oauthlib>=0.7.0->google-auth-oauthlib<2,>=0.5->tensorboard<2.16,>=2.15->tensorflow) (3.2.2)\n",
            "Downloading tensorflow_model_optimization-0.8.0-py2.py3-none-any.whl (242 kB)\n",
            "\u001b[2K   \u001b[90m━━━━━━━━━━━━━━━━━━━━━━━━━━━━━━━━━━━━━━━\u001b[0m \u001b[32m242.5/242.5 kB\u001b[0m \u001b[31m701.5 kB/s\u001b[0m eta \u001b[36m0:00:00\u001b[0ma \u001b[36m0:00:01\u001b[0m\n",
            "\u001b[?25hDownloading absl_py-1.4.0-py3-none-any.whl (126 kB)\n",
            "\u001b[2K   \u001b[90m━━━━━━━━━━━━━━━━━━━━━━━━━━━━━━━━━━━━━━━\u001b[0m \u001b[32m126.5/126.5 kB\u001b[0m \u001b[31m887.1 kB/s\u001b[0m eta \u001b[36m0:00:00\u001b[0m \u001b[36m0:00:01\u001b[0mm\n",
            "\u001b[?25hDownloading dm_tree-0.1.8-cp311-cp311-macosx_10_9_x86_64.whl (115 kB)\n",
            "\u001b[2K   \u001b[90m━━━━━━━━━━━━━━━━━━━━━━━━━━━━━━━━━━━━━━━\u001b[0m \u001b[32m115.4/115.4 kB\u001b[0m \u001b[31m900.9 kB/s\u001b[0m eta \u001b[36m0:00:00\u001b[0m0:01\u001b[0m0:01\u001b[0m\n",
            "\u001b[?25hInstalling collected packages: dm-tree, absl-py, tensorflow_model_optimization\n",
            "  Attempting uninstall: absl-py\n",
            "    Found existing installation: absl-py 2.0.0\n",
            "    Uninstalling absl-py-2.0.0:\n",
            "      Successfully uninstalled absl-py-2.0.0\n",
            "Successfully installed absl-py-1.4.0 dm-tree-0.1.8 tensorflow_model_optimization-0.8.0\n",
            "\n",
            "\u001b[1m[\u001b[0m\u001b[34;49mnotice\u001b[0m\u001b[1;39;49m]\u001b[0m\u001b[39;49m A new release of pip is available: \u001b[0m\u001b[31;49m23.2.1\u001b[0m\u001b[39;49m -> \u001b[0m\u001b[32;49m24.0\u001b[0m\n",
            "\u001b[1m[\u001b[0m\u001b[34;49mnotice\u001b[0m\u001b[1;39;49m]\u001b[0m\u001b[39;49m To update, run: \u001b[0m\u001b[32;49mpython3.11 -m pip install --upgrade pip\u001b[0m\n"
          ]
        }
      ],
      "source": [
        "import sys\n",
        "!{sys.executable} -m pip install numpy tensorflow tensorflow_model_optimization matplotlib scipy"
      ]
    },
    {
      "cell_type": "code",
      "execution_count": 2,
      "metadata": {
        "id": "GwTsquVDEe4p"
      },
      "outputs": [
        {
          "name": "stdout",
          "output_type": "stream",
          "text": [
            "\u001b[1minfo:\u001b[0m downloading installer\n",
            "\u001b[0m\u001b[1minfo: \u001b[0mprofile set to 'default'\n",
            "\u001b[0m\u001b[1minfo: \u001b[0mdefault host triple is x86_64-apple-darwin\n",
            "\u001b[0m\u001b[1minfo: \u001b[0msyncing channel updates for 'stable-x86_64-apple-darwin'\n",
            "\u001b[0m\u001b[1minfo: \u001b[0mlatest update on 2024-02-08, rust version 1.76.0 (07dca489a 2024-02-04)\n",
            "\u001b[0m\u001b[1minfo: \u001b[0mdownloading component 'cargo'\n",
            "  7.4 MiB /   7.4 MiB (100 %)   6.1 MiB/s in  1s ETA:  0s\n",
            "\u001b[0m\u001b[1minfo: \u001b[0mdownloading component 'clippy'\n",
            "\u001b[0m\u001b[1minfo: \u001b[0mdownloading component 'rust-docs'\n",
            " 14.7 MiB /  14.7 MiB (100 %)   8.0 MiB/s in  2s ETA:  0s\n",
            "\u001b[0m\u001b[1minfo: \u001b[0mdownloading component 'rust-std'\n",
            " 25.3 MiB /  25.3 MiB (100 %)   8.6 MiB/s in  3s ETA:  0s\n",
            "\u001b[0m\u001b[1minfo: \u001b[0mdownloading component 'rustc'\n",
            " 55.1 MiB /  55.1 MiB (100 %)   7.0 MiB/s in  8s ETA:  0s\n",
            "\u001b[0m\u001b[1minfo: \u001b[0mdownloading component 'rustfmt'\n",
            "\u001b[0m\u001b[1minfo: \u001b[0minstalling component 'cargo'\n",
            "\u001b[0m\u001b[1minfo: \u001b[0minstalling component 'clippy'\n",
            "\u001b[0m\u001b[1minfo: \u001b[0minstalling component 'rust-docs'\n",
            " 14.7 MiB /  14.7 MiB (100 %)   1.4 MiB/s in  7s ETA:  0s\n",
            "\u001b[0m\u001b[1minfo: \u001b[0minstalling component 'rust-std'\n",
            " 25.3 MiB /  25.3 MiB (100 %)  10.4 MiB/s in  2s ETA:  0s\n",
            "\u001b[0m\u001b[1minfo: \u001b[0minstalling component 'rustc'\n",
            " 55.1 MiB /  55.1 MiB (100 %)  11.2 MiB/s in  4s ETA:  0s\n",
            "\u001b[0m\u001b[1minfo: \u001b[0minstalling component 'rustfmt'\n",
            "\u001b[0m\u001b[1minfo: \u001b[0mdefault toolchain set to 'stable-x86_64-apple-darwin'\n",
            "\n",
            "  \u001b[0m\u001b[1m\u001b[0m\u001b[1m\u001b[32mstable-x86_64-apple-darwin installed\u001b[0m - rustc 1.76.0 (07dca489a 2024-02-04)\n",
            "\n",
            "\u001b[0m\u001b[1m\n",
            "Rust is installed now. Great!\n",
            "\u001b[0m\n",
            "To get started you may need to restart your current shell.\n",
            "This would reload your \u001b[0m\u001b[1mPATH\u001b[0m environment variable to include\n",
            "Cargo's bin directory ($HOME/.cargo/bin).\n",
            "\n",
            "To configure your current shell, you need to source\n",
            "the corresponding \u001b[0m\u001b[1menv\u001b[0m file under $HOME/.cargo.\n",
            "\n",
            "This is usually done by running one of the following (note the leading DOT):\n",
            ". \"$HOME/.cargo/env\"            # For sh/bash/zsh/ash/dash/pdksh\n",
            "source \"$HOME/.cargo/env.fish\"  # For fish\n"
          ]
        }
      ],
      "source": [
        "!curl --proto '=https' --tlsv1.2 -sSf https://sh.rustup.rs | sh -s -- -y"
      ]
    },
    {
      "cell_type": "code",
      "execution_count": 3,
      "metadata": {
        "colab": {
          "base_uri": "https://localhost:8080/"
        },
        "id": "uBsZQCRBExEc",
        "outputId": "54cbbc65-854e-4afa-b809-d2fc838f6ecf"
      },
      "outputs": [
        {
          "name": "stdout",
          "output_type": "stream",
          "text": [
            "Cloning into '.'...\n",
            "remote: Enumerating objects: 84567, done.\u001b[K\n",
            "remote: Counting objects: 100% (3259/3259), done.\u001b[K\n",
            "remote: Compressing objects: 100% (1571/1571), done.\u001b[K\n",
            "remote: Total 84567 (delta 2004), reused 2734 (delta 1660), pack-reused 81308\u001b[K\n",
            "Receiving objects: 100% (84567/84567), 90.54 MiB | 2.62 MiB/s, done.\n",
            "Resolving deltas: 100% (58619/58619), done.\n",
            "fatal: No names found, cannot describe anything.\n",
            "error: pathspec 'tags/v1.1.0' did not match any file(s) known to git\n",
            "\u001b[1m\u001b[32m    Updating\u001b[0m crates.io index\n",
            "\u001b[K\u001b[1m\u001b[32m  Downloaded\u001b[0m instant v0.1.12ing bytes: 3.9 MB                              \n",
            "\u001b[K\u001b[1m\u001b[32m  Downloaded\u001b[0m is-terminal v0.4.12bytes: 3.8 MB                              \n",
            "\u001b[K\u001b[1m\u001b[32m  Downloaded\u001b[0m indent v0.1.1ining bytes: 4.0 MB                              \n",
            "\u001b[K\u001b[1m\u001b[32m  Downloaded\u001b[0m byte-slice-cast v1.2.2es: 3.9 MB                              \n",
            "\u001b[K\u001b[1m\u001b[32m  Downloaded\u001b[0m ark-secp256k1 v0.4.0ytes: 3.8 MB                              \n",
            "\u001b[K\u001b[1m\u001b[32m  Downloaded\u001b[0m ark-serialize-derive v0.4.2.9 MB                              \n",
            "\u001b[K\u001b[1m\u001b[32m  Downloaded\u001b[0m crunchy v0.2.2ning bytes: 3.8 MB                              \n",
            "\u001b[K\u001b[1m\u001b[32m  Downloaded\u001b[0m equivalent v1.0.1g bytes: 8.0 MB                              \n",
            "\u001b[K\u001b[1m\u001b[32m  Downloaded\u001b[0m cfg-if v1.0.0ining bytes: 10.5 MB                             \n",
            "\u001b[K\u001b[1m\u001b[32m  Downloaded\u001b[0m num-conv v0.1.0ing bytes: 10.5 MB                             \n",
            "\u001b[K\u001b[1m\u001b[32m  Downloaded\u001b[0m const-fnv1a-hash v1.1.0s: 10.4 MB                             \n",
            "\u001b[K\u001b[1m\u001b[32m  Downloaded\u001b[0m assert_matches v1.5.0tes: 10.4 MB                             \n",
            "\u001b[K\u001b[1m\u001b[32m  Downloaded\u001b[0m new_debug_unreachable v1.0.4.4 MB                             \n",
            "\u001b[K\u001b[1m\u001b[32m  Downloaded\u001b[0m mimalloc v0.1.39ng bytes: 11.6 MB                             \n",
            "\u001b[K\u001b[1m\u001b[32m  Downloaded\u001b[0m path-clean v1.0.1g bytes: 11.5 MB                             \n",
            "\u001b[K\u001b[1m\u001b[32m  Downloaded\u001b[0m precomputed-hash v0.1.1s: 11.5 MB                             \n",
            "\u001b[K\u001b[1m\u001b[32m  Downloaded\u001b[0m futures-sink v0.3.30ytes: 11.4 MB                             \n",
            "\u001b[K\u001b[1m\u001b[32m  Downloaded\u001b[0m anstyle-query v1.0.2ytes: 11.3 MB                             \n",
            "\u001b[K\u001b[1m\u001b[32m  Downloaded\u001b[0m ark-secp256r1 v0.4.0ytes: 11.5 MB                             \n",
            "\u001b[K\u001b[1m\u001b[32m  Downloaded\u001b[0m num_threads v0.1.7 bytes: 11.3 MB                             \n",
            "\u001b[K\u001b[1m\u001b[32m  Downloaded\u001b[0m ascii-canvas v3.0.0bytes: 11.2 MB                             \n",
            "\u001b[K\u001b[1m\u001b[32m  Downloaded\u001b[0m anstyle v1.0.6ning bytes: 11.2 MB                             \n",
            "\u001b[K\u001b[1m\u001b[32m  Downloaded\u001b[0m rawpointer v0.2.1g bytes: 12.2 MB                             \n",
            "\u001b[K\u001b[1m\u001b[32m  Downloaded\u001b[0m phf_shared v0.10.0 bytes: 12.2 MB                             \n",
            "\u001b[K\u001b[1m\u001b[32m  Downloaded\u001b[0m matchers v0.1.0ing bytes: 12.1 MB                             \n",
            "\u001b[K\u001b[1m\u001b[32m  Downloaded\u001b[0m bitflags v1.3.2ing bytes: 12.1 MB                             \n",
            "\u001b[K\u001b[1m\u001b[32m  Downloaded\u001b[0m block-buffer v0.10.4ytes: 12.0 MB                             \n",
            "\u001b[K\u001b[1m\u001b[32m  Downloaded\u001b[0m ark-ff-macros v0.4.2ytes: 12.0 MB                             \n",
            "\u001b[K\u001b[1m\u001b[32m  Downloaded\u001b[0m ark-ff-asm v0.4.2g bytes: 12.0 MB                             \n",
            "\u001b[K\u001b[1m\u001b[32m  Downloaded\u001b[0m lazy_static v1.4.0 bytes: 12.0 MB                             \n",
            "\u001b[K\u001b[1m\u001b[32m  Downloaded\u001b[0m autocfg v1.1.0ning bytes: 11.9 MB                             \n",
            "\u001b[K\u001b[1m\u001b[32m  Downloaded\u001b[0m bit-set v0.5.3ning bytes: 11.9 MB                             \n",
            "\u001b[K\u001b[1m\u001b[32m  Downloaded\u001b[0m fixedbitset v0.4.2 bytes: 11.9 MB                             \n",
            "\u001b[K\u001b[1m\u001b[32m  Downloaded\u001b[0m futures-core v0.3.30ytes: 11.8 MB                             \n",
            "\u001b[K\u001b[1m\u001b[32m  Downloaded\u001b[0m crossbeam-deque v0.8.5es: 11.8 MB                             \n",
            "\u001b[K\u001b[1m\u001b[32m  Downloaded\u001b[0m bit-vec v0.6.3ning bytes: 11.7 MB                             \n",
            "\u001b[K\u001b[1m\u001b[32m  Downloaded\u001b[0m ena v0.14.2maining bytes: 11.7 MB                             \n",
            "\u001b[K\u001b[1m\u001b[32m  Downloaded\u001b[0m tower-service v0.3.2ytes: 11.6 MB                             \n",
            "\u001b[K\u001b[1m\u001b[32m  Downloaded\u001b[0m digest v0.10.7ning bytes: 11.6 MB                             \n",
            "\u001b[K\u001b[1m\u001b[32m  Downloaded\u001b[0m futures-executor v0.3.30: 11.6 MB                             \n",
            "\u001b[K\u001b[1m\u001b[32m  Downloaded\u001b[0m fnv v1.0.7emaining bytes: 11.5 MB                             \n",
            "\u001b[K\u001b[1m\u001b[32m  Downloaded\u001b[0m indoc v2.0.4aining bytes: 11.6 MB                             \n",
            "\u001b[K\u001b[1m\u001b[32m  Downloaded\u001b[0m lru v0.7.8emaining bytes: 11.6 MB                             \n",
            "\u001b[K\u001b[1m\u001b[32m  Downloaded\u001b[0m futures-task v0.3.30ytes: 11.5 MB                             \n",
            "\u001b[K\u001b[1m\u001b[32m  Downloaded\u001b[0m humantime v2.1.0ng bytes: 11.4 MB                             \n",
            "\u001b[K\u001b[1m\u001b[32m  Downloaded\u001b[0m id-arena v2.2.1ing bytes: 11.5 MB                             \n",
            "\u001b[K\u001b[1m\u001b[32m  Downloaded\u001b[0m generic-array v0.14.7tes: 11.8 MB                             \n",
            "\u001b[K\u001b[1m\u001b[32m  Downloaded\u001b[0m rand_core v0.6.4ng bytes: 11.8 MB                             \n",
            "\u001b[K\u001b[1m\u001b[32m  Downloaded\u001b[0m lalrpop-util v0.20.2ytes: 11.7 MB                             \n",
            "\u001b[K\u001b[1m\u001b[32m  Downloaded\u001b[0m clap_lex v0.7.0ing bytes: 11.7 MB                             \n",
            "\u001b[K\u001b[1m\u001b[32m  Downloaded\u001b[0m dirs-sys-next v0.1.2ytes: 11.6 MB                             \n",
            "\u001b[K\u001b[1m\u001b[32m  Downloaded\u001b[0m num-integer v0.1.46bytes: 11.7 MB                             \n",
            "\u001b[K\u001b[1m\u001b[32m  Downloaded\u001b[0m num-traits v0.1.43 bytes: 11.6 MB                             \n",
            "\u001b[K\u001b[1m\u001b[32m  Downloaded\u001b[0m percent-encoding v2.3.1s: 11.6 MB                             \n",
            "\u001b[K\u001b[1m\u001b[32m  Downloaded\u001b[0m rand_chacha v0.3.1 bytes: 11.6 MB                             \n",
            "\u001b[K\u001b[1m\u001b[32m  Downloaded\u001b[0m rfc6979 v0.4.0ning bytes: 11.5 MB                             \n",
            "\u001b[K\u001b[1m\u001b[32m  Downloaded\u001b[0m heck v0.4.1maining bytes: 11.5 MB                             \n",
            "\u001b[K\u001b[1m\u001b[32m  Downloaded\u001b[0m pico-args v0.5.0ng bytes: 11.8 MB                             \n",
            "\u001b[K\u001b[1m\u001b[32m  Downloaded\u001b[0m ppv-lite86 v0.2.17 bytes: 11.7 MB                             \n",
            "\u001b[K\u001b[1m\u001b[32m  Downloaded\u001b[0m toml_datetime v0.6.5ytes: 11.8 MB                             \n",
            "\u001b[K\u001b[1m\u001b[32m  Downloaded\u001b[0m oorandom v11.1.3ng bytes: 11.8 MB                             \n",
            "\u001b[K\u001b[1m\u001b[32m  Downloaded\u001b[0m thiserror-impl-no-std v2.0.2.0 MB                             \n",
            "\u001b[K\u001b[1m\u001b[32m  Downloaded\u001b[0m starknet-ff v0.3.6 bytes: 12.0 MB                             \n",
            "\u001b[K\u001b[1m\u001b[32m  Downloaded\u001b[0m unicode-width v0.1.11tes: 11.9 MB                             \n",
            "\u001b[K\u001b[1m\u001b[32m  Downloaded\u001b[0m ark-serialize v0.4.2ytes: 12.0 MB                             \n",
            "\u001b[K\u001b[1m\u001b[32m  Downloaded\u001b[0m arrayvec v0.7.4ing bytes: 11.9 MB                             \n",
            "\u001b[K\u001b[1m\u001b[32m  Downloaded\u001b[0m schemars_derive v0.8.16s: 11.9 MB                             \n",
            "\u001b[K\u001b[1m\u001b[32m  Downloaded\u001b[0m anstyle-parse v0.2.3ytes: 11.8 MB                             \n",
            "\u001b[K\u001b[1m\u001b[32m  Downloaded\u001b[0m rustc-hash v1.1.0g bytes: 11.8 MB                             \n",
            "\u001b[K\u001b[1m\u001b[32m  Downloaded\u001b[0m pin-utils v0.1.0ng bytes: 11.8 MB                             \n",
            "\u001b[K\u001b[1m\u001b[32m  Downloaded\u001b[0m cairo-felt v0.9.1g bytes: 11.7 MB                             \n",
            "\u001b[K\u001b[1m\u001b[32m  Downloaded\u001b[0m radium v0.7.0ining bytes: 11.7 MB                             \n",
            "\u001b[K\u001b[1m\u001b[32m  Downloaded\u001b[0m scarb-metadata v1.11.1es: 11.9 MB                             \n",
            "\u001b[K\u001b[1m\u001b[32m  Downloaded\u001b[0m same-file v1.0.6ng bytes: 11.9 MB                             \n",
            "\u001b[K\u001b[1m\u001b[32m  Downloaded\u001b[0m const_format_proc_macros v0.2.32B                             \n",
            "\u001b[K\u001b[1m\u001b[32m  Downloaded\u001b[0m paste v1.0.14ining bytes: 11.8 MB                             \n",
            "\u001b[K\u001b[1m\u001b[32m  Downloaded\u001b[0m rustc_version v0.4.0ytes: 11.7 MB                             \n",
            "\u001b[K\u001b[1m\u001b[32m  Downloaded\u001b[0m auto_impl v1.2.0ng bytes: 12.3 MB                             \n",
            "\u001b[K\u001b[1m\u001b[32m  Downloaded\u001b[0m serde_repr v0.1.18 bytes: 12.2 MB                             \n",
            "\u001b[K\u001b[1m\u001b[32m  Downloaded\u001b[0m dashmap v5.5.3ning bytes: 12.2 MB                             \n",
            "\u001b[K\u001b[1m\u001b[32m  Downloaded\u001b[0m relative-path v1.9.2ytes: 12.1 MB                             \n",
            "\u001b[K\u001b[1m\u001b[32m  Downloaded\u001b[0m quote v1.0.35ining bytes: 12.1 MB                             \n",
            "\u001b[K\u001b[1m\u001b[32m  Downloaded\u001b[0m futures-channel v0.3.30s: 12.1 MB                             \n",
            "\u001b[K\u001b[1m\u001b[32m  Downloaded\u001b[0m httparse v1.8.0ing bytes: 12.0 MB                             \n",
            "\u001b[K\u001b[1m\u001b[32m  Downloaded\u001b[0m indicatif v0.17.8g bytes: 12.0 MB                             \n",
            "\u001b[K\u001b[1m\u001b[32m  Downloaded\u001b[0m good_lp v1.7.0ning bytes: 12.0 MB                             \n",
            "\u001b[K\u001b[1m\u001b[32m  Downloaded\u001b[0m tinyvec_macros v0.1.1tes: 11.9 MB                             \n",
            "\u001b[K\u001b[1m\u001b[32m  Downloaded\u001b[0m tower-layer v0.3.2 bytes: 11.9 MB                             \n",
            "\u001b[K\u001b[1m\u001b[32m  Downloaded\u001b[0m funty v2.0.0aining bytes: 11.9 MB                             \n",
            "\u001b[K\u001b[1m\u001b[32m  Downloaded\u001b[0m time-core v0.1.2ng bytes: 11.8 MB                             \n",
            "\u001b[K\u001b[1m\u001b[32m  Downloaded\u001b[0m getrandom v0.2.12g bytes: 11.8 MB                             \n",
            "\u001b[K\u001b[1m\u001b[32m  Downloaded\u001b[0m globset v0.4.14ing bytes: 11.7 MB                             \n",
            "\u001b[K\u001b[1m\u001b[32m  Downloaded\u001b[0m salsa-macros v0.16.0ytes: 11.6 MB                             \n",
            "\u001b[K\u001b[1m\u001b[32m  Downloaded\u001b[0m subtle v2.5.0ining bytes: 11.6 MB                             \n",
            "\u001b[K\u001b[1m\u001b[32m  Downloaded\u001b[0m itoa v1.0.10aining bytes: 11.6 MB                             \n",
            "\u001b[K\u001b[1m\u001b[32m  Downloaded\u001b[0m matrixmultiply v0.2.4tes: 11.5 MB                             \n",
            "\u001b[K\u001b[1m\u001b[32m  Downloaded\u001b[0m num-complex v0.2.4 bytes: 11.5 MB                             \n",
            "\u001b[K\u001b[1m\u001b[32m  Downloaded\u001b[0m thiserror v1.0.57g bytes: 11.4 MB                             \n",
            "\u001b[K\u001b[1m\u001b[32m  Downloaded\u001b[0m num-modular v0.5.1 bytes: 11.4 MB                             \n",
            "\u001b[K\u001b[1m\u001b[32m  Downloaded\u001b[0m genco-macros v0.17.8ytes: 11.3 MB                             \n",
            "\u001b[K\u001b[1m\u001b[32m  Downloaded\u001b[0m parity-scale-codec-derive v3.6.9B                             \n",
            "\u001b[K\u001b[1m\u001b[32m  Downloaded\u001b[0m semver v1.0.22ning bytes: 11.3 MB                             \n",
            "\u001b[K\u001b[1m\u001b[32m  Downloaded\u001b[0m starknet-curve v0.4.1tes: 11.2 MB                             \n",
            "\u001b[K\u001b[1m\u001b[32m  Downloaded\u001b[0m tower-lsp-macros v0.9.0s: 11.2 MB                             \n",
            "\u001b[K\u001b[1m\u001b[32m  Downloaded\u001b[0m number_prefix v0.4.0ytes: 11.1 MB                             \n",
            "\u001b[K\u001b[1m\u001b[32m  Downloaded\u001b[0m xshell-macros v0.2.5ytes: 11.1 MB                             \n",
            "\u001b[K\u001b[1m\u001b[32m  Downloaded\u001b[0m parking_lot_core v0.8.6s: 11.0 MB                             \n",
            "\u001b[K\u001b[1m\u001b[32m  Downloaded\u001b[0m unescaper v0.1.4ng bytes: 11.0 MB                             \n",
            "\u001b[K\u001b[1m\u001b[32m  Downloaded\u001b[0m tracing-flame v0.2.0ytes: 11.0 MB                             \n",
            "\u001b[K\u001b[1m\u001b[32m  Downloaded\u001b[0m string_cache v0.8.7bytes: 10.9 MB                             \n",
            "\u001b[K\u001b[1m\u001b[32m  Downloaded\u001b[0m term v0.7.0maining bytes: 10.9 MB                             \n",
            "\u001b[K\u001b[1m\u001b[32m  Downloaded\u001b[0m serde_derive_internals v0.26.0 MB                             \n",
            "\u001b[K\u001b[1m\u001b[32m  Downloaded\u001b[0m overload v0.1.1ing bytes: 10.7 MB                             \n",
            "\u001b[K\u001b[1m\u001b[32m  Downloaded\u001b[0m once_cell v1.19.0g bytes: 10.6 MB                             \n",
            "\u001b[K\u001b[1m\u001b[32m  Downloaded\u001b[0m crossbeam-epoch v0.9.18s: 10.6 MB                             \n",
            "\u001b[K\u001b[1m\u001b[32m  Downloaded\u001b[0m serde_spanned v0.6.5ytes: 10.5 MB                             \n",
            "\u001b[K\u001b[1m\u001b[32m  Downloaded\u001b[0m env_logger v0.10.2 bytes: 10.5 MB                             \n",
            "\u001b[K\u001b[1m\u001b[32m  Downloaded\u001b[0m diff v0.1.13aining bytes: 10.5 MB                             \n",
            "\u001b[K\u001b[1m\u001b[32m  Downloaded\u001b[0m log v0.4.21maining bytes: 10.4 MB                             \n",
            "\u001b[K\u001b[1m\u001b[32m  Downloaded\u001b[0m derivative v2.2.0g bytes: 10.4 MB                             \n",
            "\u001b[K\u001b[1m\u001b[32m  Downloaded\u001b[0m wyz v0.5.1emaining bytes: 10.3 MB                             \n",
            "\u001b[K\u001b[1m\u001b[32m  Downloaded\u001b[0m unicode-xid v0.2.4 bytes: 10.3 MB                             \n",
            "\u001b[K\u001b[1m\u001b[32m  Downloaded\u001b[0m utf8parse v0.2.1ng bytes: 10.2 MB                             \n",
            "\u001b[K\u001b[1m\u001b[32m  Downloaded\u001b[0m yansi v0.5.1aining bytes: 10.1 MB                             \n",
            "\u001b[K\u001b[1m\u001b[32m  Downloaded\u001b[0m allocator-api2 v0.2.16es: 10.1 MB                             \n",
            "\u001b[K\u001b[1m\u001b[32m  Downloaded\u001b[0m ahash v0.8.11ining bytes: 10.1 MB                             \n",
            "\u001b[K\u001b[1m\u001b[32m  Downloaded\u001b[0m zeroize_derive v1.4.2tes: 9.9 MB                              \n",
            "\u001b[K\u001b[1m\u001b[32m  Downloaded\u001b[0m tokio-macros v2.2.0bytes: 9.9 MB                              \n",
            "\u001b[K\u001b[1m\u001b[32m  Downloaded\u001b[0m sha2 v0.10.8aining bytes: 9.8 MB                              \n",
            "\u001b[K\u001b[1m\u001b[32m  Downloaded\u001b[0m indexmap v1.9.3ing bytes: 9.8 MB                              \n",
            "\u001b[K\u001b[1m\u001b[32m  Downloaded\u001b[0m genco v0.17.8ining bytes: 9.8 MB                              \n",
            "\u001b[K\u001b[1m\u001b[32m  Downloaded\u001b[0m siphasher v0.3.11g bytes: 9.7 MB                              \n",
            "\u001b[K\u001b[1m\u001b[32m  Downloaded\u001b[0m smol_str v0.2.1ing bytes: 9.6 MB                              \n",
            "\u001b[K\u001b[1m\u001b[32m  Downloaded\u001b[0m parking_lot v0.12.1bytes: 9.6 MB                              \n",
            "\u001b[K\u001b[1m\u001b[32m  Downloaded\u001b[0m starknet-crypto v0.6.1es: 9.5 MB                              \n",
            "\u001b[K\u001b[1m\u001b[32m  Downloaded\u001b[0m tracing-log v0.2.0 bytes: 9.5 MB                              \n",
            "\u001b[K\u001b[1m\u001b[32m  Downloaded\u001b[0m version_check v0.9.4ytes: 9.5 MB                              \n",
            "\u001b[K\u001b[1m\u001b[32m  Downloaded\u001b[0m thread_local v1.1.8bytes: 9.4 MB                              \n",
            "\u001b[K\u001b[1m\u001b[32m  Downloaded\u001b[0m starknet-crypto-codegen v0.3.2MB                              \n",
            "\u001b[K\u001b[1m\u001b[32m  Downloaded\u001b[0m serde_derive v1.0.197tes: 9.3 MB                              \n",
            "\u001b[K\u001b[1m\u001b[32m  Downloaded\u001b[0m bytes v1.5.0aining bytes: 9.2 MB                              \n",
            "\u001b[K\u001b[1m\u001b[32m  Downloaded\u001b[0m anyhow v1.0.80ning bytes: 9.1 MB                              \n",
            "\u001b[K\u001b[1m\u001b[32m  Downloaded\u001b[0m clap v4.5.1maining bytes: 9.0 MB                              \n",
            "\u001b[K\u001b[1m\u001b[32m  Downloaded\u001b[0m console v0.15.8ing bytes: 9.0 MB                              \n",
            "\u001b[K\u001b[1m\u001b[32m  Downloaded\u001b[0m pin-project v1.1.5 bytes: 8.9 MB                              \n",
            "\u001b[K\u001b[1m\u001b[32m  Downloaded\u001b[0m walkdir v2.5.0ning bytes: 8.8 MB                              \n",
            "\u001b[K\u001b[1m\u001b[32m  Downloaded\u001b[0m smallvec v1.13.1ng bytes: 8.8 MB                              \n",
            "\u001b[K\u001b[1m\u001b[32m  Downloaded\u001b[0m bincode v2.0.0-rc.3bytes: 8.7 MB                              \n",
            "\u001b[K\u001b[1m\u001b[32m  Downloaded\u001b[0m time-macros v0.2.17bytes: 8.6 MB                              \n",
            "\u001b[K\u001b[1m\u001b[32m  Downloaded\u001b[0m typenum v1.17.0ing bytes: 8.6 MB                              \n",
            "\u001b[K\u001b[1m\u001b[32m  Downloaded\u001b[0m cc v1.0.89emaining bytes: 8.5 MB                              \n",
            "\u001b[K\u001b[1m\u001b[32m  Downloaded\u001b[0m ignore v0.4.22ning bytes: 8.5 MB                              \n",
            "\u001b[K\u001b[1m\u001b[32m  Downloaded\u001b[0m ark-ff v0.4.2ining bytes: 8.4 MB                              \n",
            "\u001b[K\u001b[1m\u001b[32m  Downloaded\u001b[0m unicode-bidi v0.3.15ytes: 8.4 MB                              \n",
            "\u001b[K\u001b[1m\u001b[32m  Downloaded\u001b[0m zeroize v1.7.0ning bytes: 8.3 MB                              \n",
            "\u001b[K\u001b[1m\u001b[32m  Downloaded\u001b[0m tracing-attributes v0.1.278.3 MB                              \n",
            "\u001b[K\u001b[1m\u001b[32m  Downloaded\u001b[0m lsp-types v0.94.1g bytes: 8.2 MB                              \n",
            "\u001b[K\u001b[1m\u001b[32m  Downloaded\u001b[0m crypto-bigint v0.5.5ytes: 8.1 MB                              \n",
            "\u001b[K\u001b[1m\u001b[32m  Downloaded\u001b[0m rayon-core v1.12.1 bytes: 8.0 MB                              \n",
            "\u001b[K\u001b[1m\u001b[32m  Downloaded\u001b[0m num-traits v0.2.18 bytes: 7.9 MB                              \n",
            "\u001b[K\u001b[1m\u001b[32m  Downloaded\u001b[0m unicode-ident v1.0.12tes: 7.9 MB                              \n",
            "\u001b[K\u001b[1m\u001b[32m  Downloaded\u001b[0m tinyvec v1.6.0ning bytes: 7.8 MB                              \n",
            "\u001b[K\u001b[1m\u001b[32m  Downloaded\u001b[0m ryu v1.0.17maining bytes: 7.8 MB                              \n",
            "\u001b[K\u001b[1m\u001b[32m  Downloaded\u001b[0m parity-scale-codec v3.6.9 7.7 MB                              \n",
            "\u001b[K\u001b[1m\u001b[32m  Downloaded\u001b[0m const_format v0.2.32ytes: 7.6 MB                              \n",
            "\u001b[K\u001b[1m\u001b[32m  Downloaded\u001b[0m schemars v0.8.16ng bytes: 7.6 MB                              \n",
            "\u001b[K\u001b[1m\u001b[32m  Downloaded\u001b[0m parking_lot_core v0.9.9s: 7.5 MB                              \n",
            "\u001b[K\u001b[1m\u001b[32m  Downloaded\u001b[0m tracing v0.1.40ing bytes: 7.4 MB                              \n",
            "\u001b[K\u001b[1m\u001b[32m  Downloaded\u001b[0m socket2 v0.5.6ning bytes: 7.4 MB                              \n",
            "\u001b[K\u001b[1m\u001b[32m  Downloaded\u001b[0m sharded-slab v0.1.7bytes: 7.3 MB                              \n",
            "\u001b[K\u001b[1m\u001b[32m  Downloaded\u001b[0m toml v0.8.10aining bytes: 7.2 MB                              \n",
            "\u001b[K\u001b[1m\u001b[32m  Downloaded\u001b[0m hashbrown v0.12.3g bytes: 7.2 MB                              \n",
            "\u001b[K\u001b[1m\u001b[32m  Downloaded\u001b[0m thiserror-impl v1.0.57es: 7.1 MB                              \n",
            "\u001b[K\u001b[1m\u001b[32m  Downloaded\u001b[0m spin v0.5.2maining bytes: 7.0 MB                              \n",
            "\u001b[K\u001b[1m\u001b[32m  Downloaded\u001b[0m proc-macro2 v1.0.78bytes: 7.0 MB                              \n",
            "\u001b[K\u001b[1m\u001b[32m  Downloaded\u001b[0m pretty_assertions v1.4.0: 6.9 MB                              \n",
            "\u001b[K\u001b[1m\u001b[32m  Downloaded\u001b[0m toml_edit v0.22.6 bytes: 6.9 MB                               \n",
            "\u001b[K\u001b[1m\u001b[32m  Downloaded\u001b[0m serde v1.0.197ing bytes: 6.8 MB                               \n",
            "\u001b[K\u001b[1m\u001b[32m  Downloaded\u001b[0m hashbrown v0.13.2 bytes: 6.7 MB                               \n",
            "\u001b[K\u001b[1m\u001b[32m  Downloaded\u001b[0m rand v0.8.5aining bytes: 6.7 MB                               \n",
            "\u001b[K\u001b[1m\u001b[32m  Downloaded\u001b[0m ark-ec v0.4.2ning bytes: 6.6 MB                               \n",
            "\u001b[K\u001b[1m\u001b[32m  Downloaded\u001b[0m indexmap v2.2.5ng bytes: 6.5 MB                               \n",
            "\u001b[K\u001b[1m\u001b[32m  Downloaded\u001b[0m minilp v0.2.2ning bytes: 6.5 MB                               \n",
            "\u001b[K\u001b[1m\u001b[32m  Downloaded\u001b[0m tower-lsp v0.20.0 bytes: 6.4 MB                               \n",
            "\u001b[K\u001b[1m\u001b[32m  Downloaded\u001b[0m signal-hook-registry v1.4.13 MB                               \n",
            "\u001b[K\u001b[1m\u001b[32m  Downloaded\u001b[0m xshell v0.2.5ning bytes: 6.3 MB                               \n",
            "\u001b[K\u001b[1m\u001b[32m  Downloaded\u001b[0m diffy v0.3.0ining bytes: 6.2 MB                               \n",
            "\u001b[K\u001b[1m\u001b[32m  Downloaded\u001b[0m termcolor v1.4.1g bytes: 6.2 MB                               \n",
            "\u001b[K\u001b[1m\u001b[32m  Downloaded\u001b[0m tap v1.0.1maining bytes: 6.1 MB                               \n",
            "\u001b[K\u001b[1m\u001b[32m  Downloaded\u001b[0m futures v0.3.30ng bytes: 6.1 MB                               \n",
            "\u001b[K\u001b[1m\u001b[32m  Downloaded\u001b[0m toml_edit v0.20.7 bytes: 6.0 MB                               \n",
            "\u001b[K\u001b[1m\u001b[32m  Downloaded\u001b[0m tower v0.4.13ning bytes: 5.9 MB                               \n",
            "\u001b[K\u001b[1m\u001b[32m  Downloaded\u001b[0m tokio-util v0.7.10bytes: 5.9 MB                               \n",
            "\u001b[K\u001b[1m\u001b[32m  Downloaded\u001b[0m slab v0.4.9aining bytes: 5.8 MB                               \n",
            "\u001b[K\u001b[1m\u001b[32m  Downloaded\u001b[0m num-bigint v0.4.4 bytes: 5.7 MB                               \n",
            "\u001b[K\u001b[1m\u001b[32m  Downloaded\u001b[0m url v2.5.0maining bytes: 5.7 MB                               \n",
            "\u001b[K\u001b[1m\u001b[32m  Downloaded\u001b[0m unicode-segmentation v1.11.0 MB                               \n",
            "\u001b[K\u001b[1m\u001b[32m  Downloaded\u001b[0m itertools v0.11.0 bytes: 5.6 MB                               \n",
            "\u001b[K\u001b[1m\u001b[32m  Downloaded\u001b[0m tracing-core v0.1.32tes: 5.5 MB                               \n",
            "\u001b[K\u001b[1m\u001b[32m  Downloaded\u001b[0m time v0.3.34ining bytes: 5.5 MB                               \n",
            "\u001b[K\u001b[1m\u001b[32m  Downloaded\u001b[0m hashbrown v0.14.3 bytes: 5.4 MB                               \n",
            "\u001b[K\u001b[1m\u001b[32m  Downloaded\u001b[0m memchr v2.7.1ning bytes: 5.4 MB                               \n",
            "\u001b[K\u001b[1m\u001b[32m  Downloaded\u001b[0m sprs v0.7.1aining bytes: 5.3 MB                               \n",
            "\u001b[K\u001b[1m\u001b[32m  Downloaded\u001b[0m minimal-lexical v0.2.1s: 5.3 MB                               \n",
            "\u001b[K\u001b[1m\u001b[32m  Downloaded\u001b[0m hmac v0.12.1ining bytes: 5.3 MB                               \n",
            "\u001b[K\u001b[1m\u001b[32m  Downloaded\u001b[0m crossbeam-utils v0.8.19: 5.2 MB                               \n",
            "\u001b[K\u001b[1m\u001b[32m  Downloaded\u001b[0m clap_builder v4.5.1ytes: 5.2 MB                               \n",
            "\u001b[K\u001b[1m\u001b[32m  Downloaded\u001b[0m aho-corasick v1.1.2ytes: 5.1 MB                               \n",
            "\u001b[K\u001b[1m\u001b[32m  Downloaded\u001b[0m ark-poly v0.4.2ng bytes: 5.1 MB                               \n",
            "\u001b[K\u001b[1m\u001b[32m  Downloaded\u001b[0m unicode-normalization v0.1.23MB                               \n",
            "\u001b[K\u001b[1m\u001b[32m  Downloaded\u001b[0m itertools v0.10.5 bytes: 5.0 MB                               \n",
            "\u001b[K\u001b[1m\u001b[32m  Downloaded\u001b[0m pin-project-internal v1.1.59 MB                               \n",
            "\u001b[K\u001b[1m\u001b[32m  Downloaded\u001b[0m thiserror-no-std v2.0.2: 4.9 MB                               \n",
            "\u001b[K\u001b[1m\u001b[32m  Downloaded\u001b[0m tiny-keccak v2.0.2bytes: 4.9 MB                               \n",
            "\u001b[K\u001b[1m\u001b[32m  Downloaded\u001b[0m futures-util v0.3.30tes: 4.9 MB                               \n",
            "\u001b[K\u001b[1m\u001b[32m  Downloaded\u001b[0m nom v7.1.3maining bytes: 4.8 MB                               \n",
            "\u001b[K\u001b[1m\u001b[32m  Downloaded\u001b[0m winnow v0.5.40ing bytes: 4.8 MB                               \n",
            "\u001b[K\u001b[1m\u001b[32m  Downloaded\u001b[0m pin-project-lite v0.2.13 4.7 MB                               \n",
            "\u001b[K\u001b[1m\u001b[32m  Downloaded\u001b[0m parking_lot v0.11.2ytes: 4.6 MB                               \n",
            "\u001b[K\u001b[1m\u001b[32m  Downloaded\u001b[0m lock_api v0.4.11g bytes: 4.6 MB                               \n",
            "\u001b[K\u001b[1m\u001b[32m  Downloaded\u001b[0m async-trait v0.1.77ytes: 4.6 MB                               \n",
            "\u001b[K\u001b[1m\u001b[32m  Downloaded\u001b[0m regex-automata v0.1.10s: 4.5 MB                               \n",
            "\u001b[K\u001b[1m\u001b[32m  Downloaded\u001b[0m mio v0.8.11aining bytes: 4.5 MB                               \n",
            "\u001b[K\u001b[1m\u001b[32m  Downloaded\u001b[0m camino v1.1.6ning bytes: 4.4 MB                               \n",
            "\u001b[K\u001b[1m\u001b[32m  Downloaded\u001b[0m num_cpus v1.16.0g bytes: 4.4 MB                               \n",
            "\u001b[K\u001b[1m\u001b[32m  Downloaded\u001b[0m clap_derive v4.5.0bytes: 4.3 MB                               \n",
            "\u001b[K\u001b[1m\u001b[32m  Downloaded\u001b[0m strsim v0.11.0ing bytes: 4.3 MB                               \n",
            "\u001b[K\u001b[1m\u001b[32m  Downloaded\u001b[0m proc-macro-crate v2.0.0: 4.3 MB                               \n",
            "\u001b[K\u001b[1m\u001b[32m  Downloaded\u001b[0m portable-atomic v1.6.0s: 4.2 MB                               \n",
            "\u001b[K\u001b[1m\u001b[32m  Downloaded\u001b[0m bitvec v1.0.1ning bytes: 4.1 MB                               \n",
            "\u001b[K\u001b[1m\u001b[32m  Downloaded\u001b[0m anstream v0.6.13g bytes: 4.0 MB                               \n",
            "\u001b[K\u001b[1m\u001b[32m  Downloaded\u001b[0m syn v1.0.109ining bytes: 3.9 MB                               \n",
            "\u001b[K\u001b[1m\u001b[32m  Downloaded\u001b[0m scopeguard v1.2.0 bytes: 3.8 MB                               \n",
            "\u001b[K\u001b[1m\u001b[32m  Downloaded\u001b[0m syn v2.0.52aining bytes: 3.8 MB                               \n",
            "\u001b[K\u001b[1m\u001b[32m  Downloaded\u001b[0m num-prime v0.4.3g bytes: 3.7 MB                               \n",
            "\u001b[K\u001b[1m\u001b[32m  Downloaded\u001b[0m powerfmt v0.2.0ng bytes: 3.6 MB                               \n",
            "\u001b[K\u001b[1m\u001b[32m  Downloaded\u001b[0m serde_json v1.0.114ytes: 3.6 MB                               \n",
            "\u001b[K\u001b[1m\u001b[32m  Downloaded\u001b[0m idna v0.5.0aining bytes: 3.5 MB                               \n",
            "\u001b[K\u001b[1m\u001b[32m  Downloaded\u001b[0m ahash v0.7.8ining bytes: 3.5 MB                               \n",
            "\u001b[K\u001b[1m\u001b[32m  Downloaded\u001b[0m futures-io v0.3.30bytes: 3.4 MB                               \n",
            "\u001b[K\u001b[1m\u001b[32m  Downloaded\u001b[0m colored v2.1.0ing bytes: 3.4 MB                               \n",
            "\u001b[K\u001b[1m\u001b[32m  Downloaded\u001b[0m cairo-vm v0.9.2ng bytes: 3.3 MB                               \n",
            "\u001b[K\u001b[1m\u001b[32m  Downloaded\u001b[0m nu-ansi-term v0.46.0tes: 3.2 MB                               \n",
            "\u001b[K\u001b[1m\u001b[32m  Downloaded\u001b[0m bstr v1.9.1aining bytes: 3.2 MB                               \n",
            "\u001b[K\u001b[1m\u001b[32m  Downloaded\u001b[0m tokio v1.36.0ning bytes: 2.8 MB                               \n",
            "\u001b[K\u001b[1m\u001b[32m  Downloaded\u001b[0m dyn-clone v1.0.17 bytes: 2.7 MB                               \n",
            "\u001b[K\u001b[1m\u001b[32m  Downloaded\u001b[0m heck v0.3.3aining bytes: 2.7 MB                               \n",
            "\u001b[K\u001b[1m\u001b[32m  Downloaded\u001b[0m hex v0.4.3maining bytes: 2.6 MB                               \n",
            "\u001b[K\u001b[1m\u001b[32m  Downloaded\u001b[0m futures-macro v0.3.30es: 2.6 MB                               \n",
            "\u001b[K\u001b[1m\u001b[32m  Downloaded\u001b[0m dirs-next v2.0.0g bytes: 2.5 MB                               \n",
            "\u001b[K\u001b[1m\u001b[32m  Downloaded\u001b[0m deranged v0.3.11g bytes: 2.5 MB                               \n",
            "\u001b[K\u001b[1m\u001b[32m  Downloaded\u001b[0m keccak v0.1.5ning bytes: 2.5 MB                               \n",
            "\u001b[K\u001b[1m\u001b[32m  Downloaded\u001b[0m colorchoice v1.0.0bytes: 2.5 MB                               \n",
            "\u001b[K\u001b[1m\u001b[32m  Downloaded\u001b[0m petgraph v0.6.4ng bytes: 2.5 MB                               \n",
            "\u001b[K\u001b[1m\u001b[32m  Downloaded\u001b[0m zerocopy v0.7.32g bytes: 2.4 MB                               \n",
            "\u001b[K\u001b[1m\u001b[32m  Downloaded\u001b[0m winnow v0.6.5ning bytes: 2.4 MB                               \n",
            "\u001b[K\u001b[1m\u001b[32m  Downloaded\u001b[0m libmimalloc-sys v0.1.35: 2.4 MB                               \n",
            "\u001b[K\u001b[1m\u001b[32m  Downloaded\u001b[0m impl-trait-for-tuples v0.2.2 MB                               \n",
            "\u001b[K\u001b[1m\u001b[32m  Downloaded\u001b[0m form_urlencoded v1.2.1s: 2.3 MB                               \n",
            "\u001b[K\u001b[1m\u001b[32m  Downloaded\u001b[0m either v1.10.0ing bytes: 2.3 MB                               \n",
            "\u001b[K\u001b[1m\u001b[32m  Downloaded\u001b[0m rayon v1.9.0ining bytes: 2.3 MB                               \n",
            "\u001b[K\u001b[1m\u001b[32m  Downloaded\u001b[0m crypto-common v0.1.6tes: 2.3 MB                               \n",
            "\u001b[K\u001b[1m\u001b[32m  Downloaded\u001b[0m tracing-subscriber v0.3.18.3 MB                               \n",
            "\u001b[K\u001b[1m\u001b[32m  Downloaded\u001b[0m convert_case v0.6.0ytes: 2.2 MB                               \n",
            "\u001b[K\u001b[1m\u001b[32m  Downloaded\u001b[0m cpufeatures v0.2.12ytes: 2.2 MB                               \n",
            "\u001b[K\u001b[1m\u001b[32m  Downloaded\u001b[0m ark-std v0.4.0ing bytes: 2.2 MB                               \n",
            "\u001b[K\u001b[1m\u001b[32m  Downloaded\u001b[0m lalrpop v0.20.2g bytes: 2.2 MB                                \n",
            "\u001b[K\u001b[1m\u001b[32m  Downloaded\u001b[0m ndarray v0.13.1g bytes: 2.1 MB                                \n",
            "\u001b[K\u001b[1m\u001b[32m  Downloaded\u001b[0m regex v1.10.3ing bytes: 2.0 MB                                \n",
            "\u001b[K\u001b[1m\u001b[32m  Downloaded\u001b[0m regex-syntax v0.6.29es: 1.8 MB                                \n",
            "\u001b[K\u001b[1m\u001b[32m  Downloaded\u001b[0m regex-syntax v0.8.2tes: 1.3 MB                                \n",
            "\u001b[K\u001b[1m\u001b[32m  Downloaded\u001b[0m salsa v0.16.1ing bytes: 940.9 KB                              \n",
            "\u001b[K\u001b[1m\u001b[32m  Downloaded\u001b[0m regex-automata v0.4.6s: 607.4 KB                              \n",
            "\u001b[K\u001b[1m\u001b[32m  Downloaded\u001b[0m libc v0.2.153ing bytes: 394.6 KB                              \n",
            "\u001b[K\u001b[1m\u001b[32m  Downloaded\u001b[0m sha3 v0.10.8                                                  \n",
            "\u001b[K\u001b[1m\u001b[32m  Downloaded\u001b[0m 275 crates (16.4 MB) in 9.95s                                 \n",
            "\u001b[1m\u001b[32m   Compiling\u001b[0m proc-macro2 v1.0.78\n",
            "\u001b[1m\u001b[32m   Compiling\u001b[0m unicode-ident v1.0.12\n",
            "\u001b[1m\u001b[32m   Compiling\u001b[0m autocfg v1.1.0\n",
            "\u001b[1m\u001b[32m   Compiling\u001b[0m version_check v0.9.4\n",
            "\u001b[K\u001b[1m\u001b[32m   Compiling\u001b[0m libc v0.2.153            ] 0/439: unicode-ident, proc-macro...\n",
            "\u001b[K\u001b[1m\u001b[32m   Compiling\u001b[0m cfg-if v1.0.0            ] 1/439: proc-macro2(build.rs), au...\n",
            "\u001b[K\u001b[1m\u001b[32m   Compiling\u001b[0m serde v1.0.197           ] 2/439: proc-macro2(build.rs), au...\n",
            "\u001b[K\u001b[1m\u001b[32m   Compiling\u001b[0m once_cell v1.19.0        ] 3/439: serde(build.rs), proc-mac...\n",
            "\u001b[K\u001b[1m\u001b[32m   Compiling\u001b[0m syn v1.0.109             ] 4/439: serde(build.rs), proc-mac...\n",
            "\u001b[K\u001b[1m\u001b[32m   Compiling\u001b[0m ahash v0.8.11            ] 9/439: syn(build), libc(build), ...\n",
            "\u001b[K\u001b[1m\u001b[32m   Compiling\u001b[0m num-traits v0.2.18      ] 10/439: syn(build), ahash(build.r...\n",
            "\u001b[K\u001b[1m\u001b[32m   Compiling\u001b[0m ppv-lite86 v0.2.17      ] 11/439: ahash(build.rs), libc(bui...\n",
            "\u001b[K\u001b[1m\u001b[32m   Compiling\u001b[0m memchr v2.7.1           ] 16/439: ppv-lite86, proc-macro2, ...\n",
            "\u001b[K\u001b[1m\u001b[32m   Compiling\u001b[0m getrandom v0.2.12       ] 17/439: proc-macro2, memchr, num-...\n",
            "\u001b[K\u001b[1m\u001b[32m   Compiling\u001b[0m quote v1.0.35           ] 18/439: proc-macro2, memchr, num-...\n",
            "\u001b[K\u001b[1m\u001b[32m   Compiling\u001b[0m syn v2.0.52             ] 19/439: proc-macro2, memchr, num-...\n",
            "\u001b[K\u001b[1m\u001b[32m   Compiling\u001b[0m num-integer v0.1.46     ] 21/439: syn, memchr, num-traits, syn\n",
            "\u001b[K\u001b[1m\u001b[32m   Compiling\u001b[0m rand_core v0.6.4        ] 22/439: syn, memchr, syn, num-int...\n",
            "\u001b[K\u001b[1m\u001b[32m   Compiling\u001b[0m num-bigint v0.4.4       ] 23/439: syn, syn, num-integer, ra...\n",
            "\u001b[K\u001b[1m\u001b[32m   Compiling\u001b[0m rand_chacha v0.3.1      ] 24/439: num-bigint(build.rs), syn...\n",
            "\u001b[K\u001b[1m\u001b[32m   Compiling\u001b[0m typenum v1.17.0         ] 25/439: syn, rand_chacha, syn, ra...\n",
            "\u001b[K\u001b[1m\u001b[32m   Compiling\u001b[0m rand v0.8.5             ] 26/439: syn, typenum(build.rs), r...\n",
            "\u001b[K\u001b[1m\u001b[32m   Compiling\u001b[0m generic-array v0.14.7   ] 29/439: rand, syn, ahash(build), syn\n",
            "\u001b[K\u001b[1m\u001b[32m   Compiling\u001b[0m either v1.10.0          ] 30/439: rand, syn, syn, generic-a...\n",
            "\u001b[K\u001b[1m\u001b[32m   Compiling\u001b[0m zerocopy v0.7.32        ] 31/439: rand, syn, syn, either      \n",
            "\u001b[K\u001b[1m\u001b[32m   Compiling\u001b[0m lock_api v0.4.11        ] 33/439: rand, syn, syn, ahash       \n",
            "\u001b[K\u001b[1m\u001b[32m   Compiling\u001b[0m ahash v0.7.8            ] 34/439: syn, syn, lock_api(build....\n",
            "\u001b[K\u001b[1m\u001b[32m   Compiling\u001b[0m log v0.4.21             ] 35/439: syn, ahash(build.rs), syn...\n",
            "\u001b[K\u001b[1m\u001b[32m   Compiling\u001b[0m smallvec v1.13.1        ] 36/439: log, syn, syn, ahash        \n",
            "\u001b[K\u001b[1m\u001b[32m   Compiling\u001b[0m aho-corasick v1.1.2     ] 38/439: syn, smallvec, ahash(buil...\n",
            "\u001b[K\u001b[1m\u001b[32m   Compiling\u001b[0m regex-syntax v0.8.2     ] 39/439: syn, smallvec, aho-corasi...\n",
            "\u001b[K\u001b[1m\u001b[32m   Compiling\u001b[0m serde_derive v1.0.197   ] 40/439: syn, aho-corasick, syn, r...\n",
            "\u001b[K\u001b[1m\u001b[32m   Compiling\u001b[0m regex-automata v0.4.6   ] 41/439: aho-corasick, syn, regex-...\n",
            "\u001b[K\u001b[1m\u001b[32m   Compiling\u001b[0m itoa v1.0.10            ] 44/439: serde, regex-automata, re...\n",
            "\u001b[K\u001b[1m\u001b[32m   Compiling\u001b[0m serde_json v1.0.114     ] 45/439: serde, regex-automata, it...\n",
            "\u001b[K\u001b[1m\u001b[32m   Compiling\u001b[0m allocator-api2 v0.2.16  ] 46/439: serde, regex-automata, se...\n",
            "\u001b[K\u001b[1m\u001b[32m   Compiling\u001b[0m hashbrown v0.12.3       ] 48/439: serde, regex-automata, re...\n",
            "\u001b[K\u001b[1m\u001b[32m   Compiling\u001b[0m ryu v1.0.17             ] 49/439: serde, regex-automata, ha...\n",
            "\u001b[K\u001b[1m\u001b[32m   Compiling\u001b[0m indexmap v1.9.3         ] 52/439: serde, typenum(build), re...\n",
            "\u001b[K\u001b[1m\u001b[32m   Compiling\u001b[0m regex v1.10.3           ] 56/439: serde, typenum, regex-aut...[==>                       ] 55/439: serde, typenum, regex-aut...\n",
            "\u001b[K\u001b[1m\u001b[32m   Compiling\u001b[0m hashbrown v0.14.3       ] 58/439: typenum, regex-automata, ...\n",
            "\u001b[K\u001b[1m\u001b[32m   Compiling\u001b[0m equivalent v1.0.1       ] 62/439: regex-automata, generic-a...\n",
            "\u001b[K\u001b[1m\u001b[32m   Compiling\u001b[0m crossbeam-utils v0.8.19 ] 64/439: regex-automata, cfg-if, s...\n",
            "\u001b[K\u001b[1m\u001b[32m   Compiling\u001b[0m scopeguard v1.2.0       ] 65/439: crossbeam-utils(build.rs)...\n",
            "\u001b[K\u001b[1m\u001b[32m   Compiling\u001b[0m indexmap v2.2.5         ] 68/439: crossbeam-utils(build), r...\n",
            "\u001b[K\u001b[1m\u001b[32m   Compiling\u001b[0m serde_derive_internals v0.26.039: num-traits, regex-automat...\n",
            "\u001b[K\u001b[1m\u001b[32m   Compiling\u001b[0m schemars v0.8.16        ] 73/439: num-traits, regex-automat...\n",
            "\u001b[K\u001b[1m\u001b[32m   Compiling\u001b[0m powerfmt v0.2.0         ] 74/439: num-traits, regex-automat...\n",
            "\u001b[K\u001b[1m\u001b[32m   Compiling\u001b[0m num-conv v0.1.0         ] 75/439: num-traits, powerfmt, reg...\n",
            "\u001b[K\u001b[1m\u001b[32m   Compiling\u001b[0m time-core v0.1.2        ] 76/439: powerfmt, regex-automata,...\n",
            "\u001b[K\u001b[1m\u001b[32m   Compiling\u001b[0m deranged v0.3.11        ] 77/439: time-core, regex-automata...\n",
            "\u001b[K\u001b[1m\u001b[32m   Compiling\u001b[0m time-macros v0.2.17     ] 78/439: regex-automata, num-conv,...\n",
            "\u001b[K\u001b[1m\u001b[32m   Compiling\u001b[0m schemars_derive v0.8.16 ] 79/439: regex-automata, deranged,...\n",
            "\u001b[K\u001b[1m\u001b[32m   Compiling\u001b[0m num_threads v0.1.7      ] 82/439: schemars_derive, crossbea...\n",
            "\u001b[K\u001b[1m\u001b[32m   Compiling\u001b[0m is-terminal v0.4.12     ] 83/439: schemars_derive, crossbea...\n",
            "\u001b[K\u001b[1m\u001b[32m   Compiling\u001b[0m termcolor v1.4.1        ] 86/439: crossbeam-utils, regex-au...\n",
            "\u001b[K\u001b[1m\u001b[32m   Compiling\u001b[0m dyn-clone v1.0.17       ] 88/439: crossbeam-utils, regex-au...\n",
            "\u001b[K\u001b[1m\u001b[32m   Compiling\u001b[0m humantime v2.1.0        ] 90/439: crossbeam-utils, regex-au...\n",
            "\u001b[K\u001b[1m\u001b[32m   Compiling\u001b[0m env_logger v0.10.2      ] 91/439: crossbeam-utils, regex-au...\n",
            "\u001b[K\u001b[1m\u001b[32m   Compiling\u001b[0m time v0.3.34            ] 93/439: regex-automata, env_logge...\n",
            "\u001b[K\u001b[1m\u001b[32m   Compiling\u001b[0m itertools v0.11.0       ] 96/439: time, regex-automata, sch...\n",
            "\u001b[K\u001b[1m\u001b[32m   Compiling\u001b[0m subtle v2.5.0           ] 97/439: time, regex-automata, ite...\n",
            "\u001b[K\u001b[1m\u001b[32m   Compiling\u001b[0m spin v0.5.2             ] 98/439: time, subtle, regex-autom...\n",
            "\u001b[K\u001b[1m\u001b[32m   Compiling\u001b[0m lazy_static v1.4.0      ] 99/439: time, regex-automata, spi...\n",
            "\u001b[K\u001b[1m\u001b[32m   Compiling\u001b[0m cairo-lang-utils v2.6.3 (/Users/galgantar/.cairo/crates/cairo-lang-utils)\n",
            "\u001b[K\u001b[1m\u001b[32m   Compiling\u001b[0m block-buffer v0.10.4   ] 102/439: regex-automata, cairo-lan...\n",
            "\u001b[K\u001b[1m\u001b[32m   Compiling\u001b[0m crypto-common v0.1.6   ] 103/439: regex-automata, cairo-lan...\n",
            "\u001b[K\u001b[1m\u001b[32m   Compiling\u001b[0m parking_lot_core v0.8.6] 104/439: regex-automata, cairo-lan...\n",
            "\u001b[K\u001b[1m\u001b[32m   Compiling\u001b[0m digest v0.10.7         ] 106/439: regex-automata, cairo-lan...\n",
            "\u001b[K\u001b[1m\u001b[32m   Compiling\u001b[0m instant v0.1.12        ] 107/439: regex-automata, cairo-lan...\n",
            "\u001b[K\u001b[1m\u001b[32m   Compiling\u001b[0m unicode-segmentation v1.11.0/439: cairo-lang-utils, digest,...\n",
            "\u001b[K\u001b[1m\u001b[32m   Compiling\u001b[0m parking_lot_core v0.9.9] 110/439: cairo-lang-utils, unicode...\n",
            "\u001b[K\u001b[1m\u001b[32m   Compiling\u001b[0m heck v0.3.3            ] 114/439: once_cell, unicode-segmen...[=====>                   ] 112/439: once_cell, unicode-segmen...\n",
            "\u001b[K\u001b[1m\u001b[32m   Compiling\u001b[0m derivative v2.2.0      ] 115/439: once_cell, heck, unicode-...\n",
            "\u001b[K\u001b[1m\u001b[32m   Compiling\u001b[0m thiserror v1.0.57      ] 117/439: heck, derivative, ahash(b...\n",
            "\u001b[K\u001b[1m\u001b[32m   Compiling\u001b[0m salsa-macros v0.16.0   ] 120/439: zerocopy, derivative, thi...\n",
            "\u001b[K\u001b[1m\u001b[32m   Compiling\u001b[0m parking_lot v0.11.2    ] 121/439: salsa-macros, zerocopy, d...\n",
            "\u001b[K\u001b[1m\u001b[32m   Compiling\u001b[0m thiserror-impl v1.0.57 ] 124/439: salsa-macros, derivative,...\n",
            "\u001b[K\u001b[1m\u001b[32m   Compiling\u001b[0m oorandom v11.1.3       ] 126/439: allocator-api2, derivativ...\n",
            "\u001b[K\u001b[1m\u001b[32m   Compiling\u001b[0m rustc-hash v1.1.0      ] 127/439: oorandom, derivative, thi...\n",
            "\u001b[K\u001b[1m\u001b[32m   Compiling\u001b[0m salsa v0.16.1          ] 128/439: rustc-hash, derivative, t...\n",
            "\u001b[K\u001b[1m\u001b[32m   Compiling\u001b[0m smol_str v0.2.1        ] 129/439: derivative, salsa, thiser...\n",
            "\u001b[K\u001b[1m\u001b[32m   Compiling\u001b[0m zeroize_derive v1.4.2  ] 135/439: itertools, salsa, libc, s...\n",
            "\u001b[K\u001b[1m\u001b[32m   Compiling\u001b[0m dirs-sys-next v0.1.2   ] 140/439: itertools, indexmap, hash...\n",
            "\u001b[K\u001b[1m\u001b[32m   Compiling\u001b[0m paste v1.0.14          ] 143/439: parking_lot_core(build), ...\n",
            "\u001b[K\u001b[1m\u001b[32m   Compiling\u001b[0m crunchy v0.2.2         ] 147/439: regex-syntax, indexmap, s...\n",
            "\u001b[K\u001b[1m\u001b[32m   Compiling\u001b[0m dirs-next v2.0.0       ] 152/439: regex-syntax, paste(build...\n",
            "\u001b[K\u001b[1m\u001b[32m   Compiling\u001b[0m siphasher v0.3.11      ] 153/439: regex-syntax, dirs-next, ...\n",
            "\u001b[K\u001b[1m\u001b[32m   Compiling\u001b[0m unicode-xid v0.2.4     ] 154/439: regex-syntax, parking_lot...\n",
            "\u001b[K\u001b[1m\u001b[32m   Compiling\u001b[0m anyhow v1.0.80         ] 155/439: regex-syntax, siphasher, ...\n",
            "\u001b[K\u001b[1m\u001b[32m   Compiling\u001b[0m tiny-keccak v2.0.2     ] 156/439: regex-syntax, anyhow(buil...\n",
            "\u001b[K\u001b[1m\u001b[32m   Compiling\u001b[0m phf_shared v0.10.0     ] 159/439: regex-syntax, anyhow(buil...\n",
            "\u001b[K\u001b[1m\u001b[32m   Compiling\u001b[0m parking_lot v0.12.1    ] 160/439: regex-syntax, anyhow(buil...\n",
            "\u001b[K\u001b[1m\u001b[32m   Compiling\u001b[0m term v0.7.0            ] 161/439: regex-syntax, anyhow(buil...\n",
            "\u001b[K\u001b[1m\u001b[32m   Compiling\u001b[0m ark-ff-macros v0.4.2   ] 164/439: regex-syntax, paste, crun...\n",
            "\u001b[K\u001b[1m\u001b[32m   Compiling\u001b[0m ark-ff-asm v0.4.2      ] 165/439: regex-syntax, paste, ark-...\n",
            "\u001b[K\u001b[1m\u001b[32m   Compiling\u001b[0m same-file v1.0.6       ] 167/439: regex-syntax, ark-ff-macr...\n",
            "\u001b[K\u001b[1m\u001b[32m   Compiling\u001b[0m precomputed-hash v0.1.1] 168/439: regex-syntax, ark-ff-macr...\n",
            "\u001b[K\u001b[1m\u001b[32m   Compiling\u001b[0m bit-vec v0.6.3         ] 170/439: regex-syntax, ark-ff-macr...\n",
            "\u001b[K\u001b[1m\u001b[32m   Compiling\u001b[0m fixedbitset v0.4.2     ] 171/439: regex-syntax, ark-ff-macr...\n",
            "\u001b[K\u001b[1m\u001b[32m   Compiling\u001b[0m new_debug_unreachable v1.0.4/439: regex-syntax, bit-vec, fi...\n",
            "\u001b[K\u001b[1m\u001b[32m   Compiling\u001b[0m string_cache v0.8.7    ] 173/439: regex-syntax, fixedbitset...\n",
            "\u001b[K\u001b[1m\u001b[32m   Compiling\u001b[0m petgraph v0.6.4        ] 174/439: regex-syntax, string_cach...\n",
            "\u001b[K\u001b[1m\u001b[32m   Compiling\u001b[0m bit-set v0.5.3         ] 175/439: regex-syntax, string_cach...\n",
            "\u001b[K\u001b[1m\u001b[32m   Compiling\u001b[0m ena v0.14.2            ] 176/439: regex-syntax, petgraph, b...\n",
            "\u001b[K\u001b[1m\u001b[32m   Compiling\u001b[0m walkdir v2.5.0         ] 177/439: regex-syntax, ena, petgra...\n",
            "\u001b[K\u001b[1m\u001b[32m   Compiling\u001b[0m ascii-canvas v3.0.0    ] 179/439: petgraph, tiny-keccak, wa...\n",
            "\u001b[K\u001b[1m\u001b[32m   Compiling\u001b[0m pico-args v0.5.0       ] 181/439: petgraph, anyhow, ascii-c...\n",
            "\u001b[K\u001b[1m\u001b[32m   Compiling\u001b[0m num-complex v0.2.4     ] 183/439: petgraph, anyhow, typenum...\n",
            "\u001b[K\u001b[1m\u001b[32m   Compiling\u001b[0m keccak v0.1.5          ] 184/439: petgraph, anyhow, regex-a...\n",
            "\u001b[K\u001b[1m\u001b[32m   Compiling\u001b[0m genco-macros v0.17.8   ] 185/439: petgraph, anyhow, regex-a...\n",
            "\u001b[K\u001b[1m\u001b[32m   Compiling\u001b[0m sha3 v0.10.8           ] 186/439: genco-macros(build.rs), p...\n",
            "\u001b[K\u001b[1m\u001b[32m   Compiling\u001b[0m zeroize v1.7.0         ] 190/439: num-complex(build), sha3,...\n",
            "\u001b[K\u001b[1m\u001b[32m   Compiling\u001b[0m cairo-lang-debug v2.6.3 (/Users/galgantar/.cairo/crates/cairo-lang-debug)\n",
            "\u001b[K\u001b[1m\u001b[32m   Compiling\u001b[0m cairo-felt v0.9.1      ] 192/439: cairo-lang-debug, sha3, r...\n",
            "\u001b[K\u001b[1m\u001b[32m   Compiling\u001b[0m ark-serialize-derive v0.4.23/439: cairo-lang-debug, cairo-f...\n",
            "\u001b[K\u001b[1m\u001b[32m   Compiling\u001b[0m lalrpop-util v0.20.2   ] 194/439: ark-serialize-derive, cai...\n",
            "\u001b[K\u001b[1m\u001b[32m   Compiling\u001b[0m ark-std v0.4.0         ] 196/439: lalrpop-util, cairo-felt,...\n",
            "\u001b[K\u001b[1m\u001b[32m   Compiling\u001b[0m rawpointer v0.2.1      ] 198/439: generic-array(build), cai...\n",
            "\u001b[K\u001b[1m\u001b[32m   Compiling\u001b[0m path-clean v1.0.1      ] 199/439: rawpointer, cairo-felt, r...\n",
            "\u001b[K\u001b[1m\u001b[32m   Compiling\u001b[0m lalrpop v0.20.2        ] 201/439: unicode-segmentation, cai...\n",
            "\u001b[K\u001b[1m\u001b[32m   Compiling\u001b[0m ndarray v0.13.1        ] 203/439: lalrpop, ppv-lite86, cair...\n",
            "\u001b[K\u001b[1m\u001b[32m   Compiling\u001b[0m convert_case v0.6.0    ] 207/439: lalrpop, ndarray(build), ...\n",
            "\u001b[K\u001b[1m\u001b[32m   Compiling\u001b[0m cairo-lang-filesystem v2.6.3 (/Users/galgantar/.cairo/crates/cairo-lang-filesystem)\n",
            "\u001b[K\u001b[1m\u001b[32m   Compiling\u001b[0m matrixmultiply v0.2.4  ] 209/439: lalrpop, cairo-lang-files...\n",
            "\u001b[K\u001b[1m\u001b[32m   Compiling\u001b[0m ark-serialize v0.4.2   ] 211/439: generic-array, lalrpop, c...\n",
            "\u001b[K\u001b[1m\u001b[32m   Compiling\u001b[0m itertools v0.10.5      ] 215/439: lalrpop-util, lalrpop, ca...\n",
            "\u001b[Km\u001b[36m    Building\u001b[0m [===========>             ] 216/439: lalrpop-util, lalrpop, ca...\u001b[1m\u001b[32m   Compiling\u001b[0m indoc v2.0.4\n",
            "\u001b[K\u001b[1m\u001b[32m   Compiling\u001b[0m relative-path v1.9.2   ] 217/439: lalrpop, cairo-lang-files...\n",
            "\u001b[K\u001b[1m\u001b[32m   Compiling\u001b[0m xshell-macros v0.2.5   ] 218/439: lalrpop, cairo-lang-files...\n",
            "\u001b[K\u001b[1m\u001b[32m   Compiling\u001b[0m const-fnv1a-hash v1.1.0] 219/439: xshell-macros, lalrpop, c...\n",
            "\u001b[K\u001b[1m\u001b[32m   Compiling\u001b[0m xshell v0.2.5          ] 220/439: lalrpop, cairo-lang-files...\n",
            "\u001b[K\u001b[1m\u001b[32m   Compiling\u001b[0m ark-ff v0.4.2          ] 221/439: lalrpop, cairo-lang-files...\n",
            "\u001b[K\u001b[1m\u001b[32m   Compiling\u001b[0m genco v0.17.8          ] 222/439: lalrpop, cairo-lang-files...\n",
            "\u001b[K\u001b[1m\u001b[32m   Compiling\u001b[0m num-traits v0.1.43     ] 226/439: lalrpop, ndarray, genco, ...\n",
            "\u001b[K\u001b[1m\u001b[32m   Compiling\u001b[0m cairo-lang-syntax-codegen v2.6.3 (/Users/galgantar/.cairo/crates/cairo-lang-syntax-codegen)\n",
            "\u001b[K\u001b[1m\u001b[32m   Compiling\u001b[0m unescaper v0.1.4       ] 230/439: cairo-lang-syntax-codegen...\n",
            "\u001b[K\u001b[1m\u001b[32m   Compiling\u001b[0m cairo-lang-syntax v2.6.3 (/Users/galgantar/.cairo/crates/cairo-lang-syntax)\n",
            "\u001b[K\u001b[1m\u001b[32m   Compiling\u001b[0m cairo-lang-sierra v2.6.3 (/Users/galgantar/.cairo/crates/cairo-lang-sierra)\n",
            "\u001b[K\u001b[1m\u001b[32m   Compiling\u001b[0m sprs v0.7.1            ] 235/439: cairo-lang-syntax-codegen...\n",
            "\u001b[K\u001b[1m\u001b[32m   Compiling\u001b[0m minilp v0.2.2          ] 236/439: cairo-lang-syntax-codegen...\n",
            "\u001b[K\u001b[1m\u001b[32m   Compiling\u001b[0m cairo-lang-diagnostics v2.6.3 (/Users/galgantar/.cairo/crates/cairo-lang-diagnostics)\n",
            "\u001b[K\u001b[1m\u001b[32m   Compiling\u001b[0m colored v2.1.0         ] 240/439: cairo-lang-sierra, cairo-...\n",
            "\u001b[K\u001b[1m\u001b[32m   Compiling\u001b[0m fnv v1.0.7>            ] 242/439: cairo-lang-sierra, cairo-...\n",
            "\u001b[K\u001b[1m\u001b[32m   Compiling\u001b[0m crypto-bigint v0.5.5   ] 244/439: cairo-lang-sierra, cairo-...\n",
            "\u001b[K\u001b[1m\u001b[32m   Compiling\u001b[0m cairo-lang-parser v2.6.3 (/Users/galgantar/.cairo/crates/cairo-lang-parser)\n",
            "\u001b[K\u001b[1m\u001b[32m   Compiling\u001b[0m good_lp v1.7.0         ] 247/439: cairo-lang-parser, cairo-...\n",
            "\u001b[K\u001b[1m\u001b[32m   Compiling\u001b[0m hex v0.4.3=>           ] 248/439: cairo-lang-parser, cairo-...\n",
            "\u001b[K\u001b[1m\u001b[32m   Compiling\u001b[0m starknet-ff v0.3.6     ] 249/439: cairo-lang-parser, cairo-...\n",
            "\u001b[K\u001b[1m\u001b[32m   Compiling\u001b[0m cairo-lang-eq-solver v2.6.3 (/Users/galgantar/.cairo/crates/cairo-lang-eq-solver)\n",
            "\u001b[K\u001b[1m\u001b[32m   Compiling\u001b[0m cairo-lang-sierra-type-size v2.6.3 (/Users/galgantar/.cairo/crates/cairo-lang-sierra-type-size)\n",
            "\u001b[K\u001b[1m\u001b[32m   Compiling\u001b[0m starknet-curve v0.4.1  ] 256/439: cairo-lang-sierra, cairo-...\n",
            "\u001b[K\u001b[1m\u001b[32m   Compiling\u001b[0m hmac v0.12.1           ] 257/439: cairo-lang-sierra, cairo-...\n",
            "\u001b[K\u001b[1m\u001b[32m   Compiling\u001b[0m cpufeatures v0.2.12    ] 259/439: hmac, cairo-lang-sierra, ...\n",
            "\u001b[K\u001b[1m\u001b[32m   Compiling\u001b[0m sha2 v0.10.8           ] 260/439: cairo-lang-sierra, cairo-...\n",
            "\u001b[K\u001b[1m\u001b[32m   Compiling\u001b[0m rfc6979 v0.4.0         ] 262/439: starknet-curve, cairo-lan...\n",
            "\u001b[K\u001b[1m\u001b[32m   Compiling\u001b[0m starknet-crypto-codegen v0.3.239: cairo-lang-sierra, cairo-...\n",
            "\u001b[K\u001b[1m\u001b[32m   Compiling\u001b[0m cairo-lang-sierra-gas v2.6.3 (/Users/galgantar/.cairo/crates/cairo-lang-sierra-gas)\n",
            "\u001b[K\u001b[1m\u001b[32m   Compiling\u001b[0m cairo-lang-sierra-ap-change v2.6.3 (/Users/galgantar/.cairo/crates/cairo-lang-sierra-ap-change)\n",
            "\u001b[K\u001b[1m\u001b[32m   Compiling\u001b[0m cairo-lang-defs v2.6.3 (/Users/galgantar/.cairo/crates/cairo-lang-defs)\n",
            "\u001b[K\u001b[1m\u001b[32m   Compiling\u001b[0m cairo-lang-casm v2.6.3 (/Users/galgantar/.cairo/crates/cairo-lang-casm)\n",
            "\u001b[K\u001b[1m\u001b[32m   Compiling\u001b[0m indent v0.1.1          ] 268/439: cairo-lang-sierra, cairo-...\n",
            "\u001b[K\u001b[1m\u001b[32m   Compiling\u001b[0m assert_matches v1.5.0  ] 269/439: cairo-lang-sierra, cairo-...\n",
            "\u001b[K\u001b[1m\u001b[32m   Compiling\u001b[0m cairo-lang-sierra-to-casm v2.6.3 (/Users/galgantar/.cairo/crates/cairo-lang-sierra-to-casm)\n",
            "\u001b[K\u001b[1m\u001b[32m   Compiling\u001b[0m cairo-lang-plugins v2.6.3 (/Users/galgantar/.cairo/crates/cairo-lang-plugins)\n",
            "\u001b[K\u001b[1m\u001b[32m   Compiling\u001b[0m starknet-crypto v0.6.1 ] 272/439: cairo-lang-plugins, cairo...\n",
            "\u001b[K\u001b[1m\u001b[32m   Compiling\u001b[0m cairo-lang-proc-macros v2.6.3 (/Users/galgantar/.cairo/crates/cairo-lang-proc-macros)\n",
            "\u001b[K\u001b[1m\u001b[32m   Compiling\u001b[0m serde_spanned v0.6.5   ] 274/439: cairo-lang-proc-macros, c...\n",
            "\u001b[K\u001b[1m\u001b[32m   Compiling\u001b[0m toml_datetime v0.6.5   ] 275/439: serde_spanned, cairo-lang...\n",
            "\u001b[K\u001b[1m\u001b[32m   Compiling\u001b[0m id-arena v2.2.1        ] 276/439: toml_datetime, cairo-lang...\n",
            "\u001b[K\u001b[1m\u001b[32m   Compiling\u001b[0m winnow v0.6.5          ] 277/439: cairo-lang-sierra, id-are...\n",
            "\u001b[K\u001b[1m\u001b[32m   Compiling\u001b[0m toml_edit v0.22.6      ] 278/439: cairo-lang-sierra, winnow...\n",
            "\u001b[K\u001b[1m\u001b[32m   Compiling\u001b[0m cairo-lang-semantic v2.6.3 (/Users/galgantar/.cairo/crates/cairo-lang-semantic)\n",
            "\u001b[K\u001b[1m\u001b[32m   Compiling\u001b[0m utf8parse v0.2.1       ] 280/439: cairo-lang-semantic, toml...\n",
            "\u001b[K\u001b[1m\u001b[32m   Compiling\u001b[0m anstyle-parse v0.2.3   ] 281/439: cairo-lang-semantic, utf8...\n",
            "\u001b[K\u001b[1m\u001b[32m   Compiling\u001b[0m cairo-lang-lowering v2.6.3 (/Users/galgantar/.cairo/crates/cairo-lang-lowering)\n",
            "\u001b[K\u001b[1m\u001b[32m   Compiling\u001b[0m toml v0.8.10=>         ] 283/439: cairo-lang-semantic, cair...\n",
            "\u001b[K\u001b[1m\u001b[32m   Compiling\u001b[0m cairo-lang-starknet-classes v2.6.3 (/Users/galgantar/.cairo/crates/cairo-lang-starknet-classes)\n",
            "\u001b[K\u001b[1m\u001b[32m   Compiling\u001b[0m colorchoice v1.0.0     ] 285/439: cairo-lang-semantic, cair...\n",
            "\u001b[K\u001b[1m\u001b[32m   Compiling\u001b[0m anstyle v1.0.6         ] 286/439: cairo-lang-semantic, cair...\n",
            "\u001b[K\u001b[1m\u001b[32m   Compiling\u001b[0m anstyle-query v1.0.2   ] 287/439: cairo-lang-semantic, cair...\n",
            "\u001b[K\u001b[1m\u001b[32m   Compiling\u001b[0m anstream v0.6.13       ] 288/439: cairo-lang-semantic, cair...\n",
            "\u001b[K\u001b[1m\u001b[32m   Compiling\u001b[0m cairo-lang-project v2.6.3 (/Users/galgantar/.cairo/crates/cairo-lang-project)\n",
            "\u001b[K\u001b[1m\u001b[32m   Compiling\u001b[0m cairo-lang-sierra-generator v2.6.3 (/Users/galgantar/.cairo/crates/cairo-lang-sierra-generator)\n",
            "\u001b[Km\u001b[36m    Building\u001b[0m [===============>         ] 291/439: cairo-lang-semantic, cair...\u001b[1m\u001b[32m   Compiling\u001b[0m strsim v0.11.0\n",
            "\u001b[K\u001b[1m\u001b[32m   Compiling\u001b[0m clap_lex v0.7.0        ] 292/439: cairo-lang-semantic, cair...\n",
            "\u001b[K\u001b[1m\u001b[32m   Compiling\u001b[0m heck v0.4.1==>         ] 293/439: cairo-lang-semantic, cair...\n",
            "\u001b[K\u001b[1m\u001b[32m   Compiling\u001b[0m clap_derive v4.5.0     ] 294/439: cairo-lang-semantic, cair...\n",
            "\u001b[K\u001b[1m\u001b[32m   Compiling\u001b[0m cairo-lang-compiler v2.6.3 (/Users/galgantar/.cairo/crates/cairo-lang-compiler)\n",
            "\u001b[K\u001b[1m\u001b[32m   Compiling\u001b[0m clap_builder v4.5.1    ] 296/439: cairo-lang-semantic, cair...\n",
            "\u001b[K\u001b[1m\u001b[32m   Compiling\u001b[0m const_format_proc_macros v0.2.32: cairo-lang-semantic, cair...\n",
            "\u001b[K\u001b[1m\u001b[32m   Compiling\u001b[0m crossbeam-epoch v0.9.18] 298/439: cairo-lang-semantic, cair...\n",
            "\u001b[K\u001b[1m\u001b[32m   Compiling\u001b[0m pin-project-lite v0.2.13 299/439: cairo-lang-semantic, cair...\n",
            "\u001b[K\u001b[1m\u001b[32m   Compiling\u001b[0m crossbeam-deque v0.8.5 ] 300/439: cairo-lang-semantic, cair...\n",
            "\u001b[K\u001b[1m\u001b[32m   Compiling\u001b[0m const_format v0.2.32   ] 301/439: cairo-lang-semantic, cair...\n",
            "\u001b[K\u001b[1m\u001b[32m   Compiling\u001b[0m clap v4.5.1===>        ] 302/439: cairo-lang-semantic, cair...\n",
            "\u001b[K\u001b[1m\u001b[32m   Compiling\u001b[0m cairo-lang-starknet v2.6.3 (/Users/galgantar/.cairo/crates/cairo-lang-starknet)\n",
            "\u001b[K\u001b[1m\u001b[32m   Compiling\u001b[0m radium v0.7.0=>        ] 304/439: cairo-lang-semantic, cair...\n",
            "\u001b[K\u001b[1m\u001b[32m   Compiling\u001b[0m cc v1.0.89====>        ] 305/439: cairo-lang-semantic, cair...\n",
            "\u001b[K\u001b[1m\u001b[32m   Compiling\u001b[0m libmimalloc-sys v0.1.35] 306/439: cairo-lang-semantic, cair...\n",
            "\u001b[K\u001b[1m\u001b[32m   Compiling\u001b[0m hashbrown v0.13.2      ] 309/439: cairo-lang-semantic, cair...\n",
            "\u001b[K\u001b[1m\u001b[32m   Compiling\u001b[0m tracing-core v0.1.32   ] 310/439: cairo-lang-semantic, cair...\n",
            "\u001b[K\u001b[1m\u001b[32m   Compiling\u001b[0m slab v0.4.9===>        ] 311/439: cairo-lang-semantic, cair...\n",
            "\u001b[K\u001b[1m\u001b[32m   Compiling\u001b[0m overload v0.1.1        ] 312/439: cairo-lang-semantic, slab...\n",
            "\u001b[K\u001b[1m\u001b[32m   Compiling\u001b[0m futures-sink v0.3.30   ] 313/439: cairo-lang-semantic, cair...\n",
            "\u001b[K\u001b[1m\u001b[32m   Compiling\u001b[0m tap v1.0.1====>        ] 314/439: cairo-lang-semantic, cair...\n",
            "\u001b[K\u001b[1m\u001b[32m   Compiling\u001b[0m tinyvec_macros v0.1.1  ] 315/439: cairo-lang-semantic, tap,...\n",
            "\u001b[K\u001b[1m\u001b[32m   Compiling\u001b[0m futures-core v0.3.30   ] 316/439: cairo-lang-semantic, cair...\n",
            "\u001b[K\u001b[1m\u001b[32m   Compiling\u001b[0m tinyvec v1.6.0=>       ] 317/439: cairo-lang-semantic, cair...\n",
            "\u001b[K\u001b[1m\u001b[32m   Compiling\u001b[0m wyz v0.5.1=====>       ] 318/439: cairo-lang-semantic, tiny...\n",
            "\u001b[K\u001b[1m\u001b[32m   Compiling\u001b[0m nu-ansi-term v0.46.0   ] 319/439: cairo-lang-semantic, tiny...\n",
            "\u001b[K\u001b[1m\u001b[32m   Compiling\u001b[0m ark-poly v0.4.2>       ] 321/439: cairo-lang-semantic, cair...\n",
            "\u001b[K\u001b[1m\u001b[32m   Compiling\u001b[0m tracing-attributes v0.1.2725/439: cairo-lang-semantic, cair...\n",
            "\u001b[K\u001b[1m\u001b[32m   Compiling\u001b[0m funty v2.0.0===>       ] 326/439: cairo-lang-semantic, cair...\n",
            "\u001b[K\u001b[1m\u001b[32m   Compiling\u001b[0m tracing v0.1.40>       ] 328/439: cairo-lang-semantic, cair...\n",
            "\u001b[K\u001b[1m\u001b[32m   Compiling\u001b[0m bitvec v1.0.1==>       ] 329/439: cairo-lang-semantic, cair...\n",
            "\u001b[K\u001b[1m\u001b[32m   Compiling\u001b[0m ark-ec v0.4.2==>       ] 330/439: cairo-lang-semantic, cair...\n",
            "\u001b[K\u001b[1m\u001b[32m   Compiling\u001b[0m unicode-normalization v0.1.23439: cairo-lang-semantic, slab...\n",
            "\u001b[K\u001b[1m\u001b[32m   Compiling\u001b[0m futures-channel v0.3.30] 333/439: cairo-lang-semantic, cair...\n",
            "\u001b[K\u001b[1m\u001b[32m   Compiling\u001b[0m num-modular v0.5.1     ] 334/439: cairo-lang-semantic, cair...\n",
            "\u001b[K\u001b[1m\u001b[32m   Compiling\u001b[0m lru v0.7.8======>      ] 335/439: cairo-lang-semantic, cair...\n",
            "\u001b[K\u001b[1m\u001b[32m   Compiling\u001b[0m thiserror-impl-no-std v2.0.2/439: cairo-lang-semantic, cair...\n",
            "\u001b[K\u001b[1m\u001b[32m   Compiling\u001b[0m futures-macro v0.3.30  ] 337/439: cairo-lang-semantic, cair...\n",
            "\u001b[K\u001b[1m\u001b[32m   Compiling\u001b[0m bstr v1.9.1=====>      ] 338/439: cairo-lang-semantic, cair...\n",
            "\u001b[K\u001b[1m\u001b[32m   Compiling\u001b[0m pin-utils v0.1.0>      ] 339/439: cairo-lang-semantic, cair...\n",
            "\u001b[K\u001b[1m\u001b[32m   Compiling\u001b[0m minimal-lexical v0.2.1 ] 340/439: cairo-lang-semantic, cair...\n",
            "\u001b[K\u001b[1m\u001b[32m   Compiling\u001b[0m rayon-core v1.12.1     ] 341/439: cairo-lang-semantic, mini...\n",
            "\u001b[K\u001b[1m\u001b[32m   Compiling\u001b[0m percent-encoding v2.3.1] 342/439: cairo-lang-semantic, mini...\n",
            "\u001b[K\u001b[1m\u001b[32m   Compiling\u001b[0m futures-task v0.3.30   ] 343/439: cairo-lang-semantic, mini...\n",
            "\u001b[K\u001b[1m\u001b[32m   Compiling\u001b[0m unicode-bidi v0.3.15   ] 344/439: cairo-lang-semantic, cair...[==================>      ] 345/439: cairo-lang-semantic, same...\n",
            "\u001b[K\u001b[1m\u001b[32m   Compiling\u001b[0m futures-io v0.3.30     ] 346/439: cairo-lang-semantic, same...\n",
            "\u001b[K\u001b[1m\u001b[32m   Compiling\u001b[0m regex-syntax v0.6.29   ] 347/439: cairo-lang-semantic, cair...\n",
            "\u001b[K\u001b[1m\u001b[32m   Compiling\u001b[0m idna v0.5.0=====>      ] 348/439: cairo-lang-semantic, cair...\n",
            "\u001b[K\u001b[1m\u001b[32m   Compiling\u001b[0m regex-automata v0.1.10 ] 349/439: cairo-lang-semantic, cair...\n",
            "\u001b[K\u001b[1m\u001b[32m   Compiling\u001b[0m futures-util v0.3.30   ] 350/439: cairo-lang-semantic, cair...\n",
            "\u001b[K\u001b[1m\u001b[32m   Compiling\u001b[0m form_urlencoded v1.2.1 ] 352/439: cairo-lang-semantic, cair...\n",
            "\u001b[K\u001b[1m\u001b[32m   Compiling\u001b[0m nom v7.1.3=======>     ] 354/439: cairo-lang-semantic, cair...\n",
            "\u001b[K\u001b[1m\u001b[32m   Compiling\u001b[0m globset v0.4.14==>     ] 355/439: cairo-lang-semantic, nom,...\n",
            "\u001b[K\u001b[1m\u001b[32m   Compiling\u001b[0m thiserror-no-std v2.0.2] 356/439: cairo-lang-semantic, nom,...\n",
            "\u001b[K\u001b[1m\u001b[32m   Compiling\u001b[0m num-prime v0.4.3=>     ] 357/439: cairo-lang-semantic, cair...\n",
            "\u001b[K\u001b[1m\u001b[32m   Compiling\u001b[0m mimalloc v0.1.39=>     ] 358/439: cairo-lang-semantic, num-...\n",
            "\u001b[K\u001b[1m\u001b[32m   Compiling\u001b[0m bincode v2.0.0-rc.3    ] 360/439: cairo-lang-semantic, cair...\n",
            "\u001b[K\u001b[1m\u001b[32m   Compiling\u001b[0m pin-project-internal v1.1.51/439: cairo-lang-semantic, cair...\n",
            "\u001b[K\u001b[1m\u001b[32m   Compiling\u001b[0m tokio-macros v2.2.0    ] 362/439: cairo-lang-semantic, cair...\n",
            "\u001b[K\u001b[1m\u001b[32m   Compiling\u001b[0m socket2 v0.5.6===>     ] 363/439: cairo-lang-semantic, cair...\n",
            "\u001b[K\u001b[1m\u001b[32m   Compiling\u001b[0m num_cpus v1.16.0=>     ] 364/439: cairo-lang-semantic, cair...\n",
            "\u001b[K\u001b[1m\u001b[32m   Compiling\u001b[0m signal-hook-registry v1.4.15/439: cairo-lang-semantic, cair...\n",
            "\u001b[K\u001b[1m\u001b[32m   Compiling\u001b[0m mio v0.8.11======>     ] 366/439: cairo-lang-semantic, sign...\n",
            "\u001b[K\u001b[1m\u001b[32m   Compiling\u001b[0m async-trait v0.1.77    ] 367/439: cairo-lang-semantic, sign...\n",
            "\u001b[K\u001b[1m\u001b[32m   Compiling\u001b[0m semver v1.0.22===>     ] 368/439: cairo-lang-semantic, cair...\n",
            "\u001b[K\u001b[1m\u001b[32m   Compiling\u001b[0m camino v1.1.6=====>    ] 369/439: cairo-lang-semantic, semv...\n",
            "\u001b[K\u001b[1m\u001b[32m   Compiling\u001b[0m httparse v1.8.0===>    ] 370/439: cairo-lang-semantic, cair...\n",
            "\u001b[K\u001b[1m\u001b[32m   Compiling\u001b[0m bytes v1.5.0======>    ] 371/439: cairo-lang-semantic, cair...\n",
            "\u001b[K\u001b[1m\u001b[32m   Compiling\u001b[0m tokio v1.36.0=====>    ] 372/439: cairo-lang-semantic, byte...\n",
            "\u001b[K\u001b[1m\u001b[32m   Compiling\u001b[0m cairo-vm v0.9.2===>    ] 376/439: cairo-lang-semantic, cair...[====================>    ] 377/439: cairo-lang-semantic, cair...\n",
            "\u001b[K\u001b[1m\u001b[32m   Compiling\u001b[0m pin-project v1.1.5>    ] 378/439: cairo-lang-semantic, cair...\n",
            "\u001b[K\u001b[1m\u001b[32m   Compiling\u001b[0m ignore v0.4.22====>    ] 379/439: cairo-lang-semantic, pin-...\n",
            "\u001b[K\u001b[1m\u001b[32m   Compiling\u001b[0m url v2.5.0========>    ] 381/439: cairo-lang-semantic, igno...\n",
            "\u001b[K\u001b[1m\u001b[32m   Compiling\u001b[0m matchers v0.1.0===>    ] 382/439: cairo-lang-semantic, igno...\n",
            "\u001b[K\u001b[1m\u001b[32m   Compiling\u001b[0m ark-secp256r1 v0.4.0   ] 383/439: cairo-lang-semantic, matc...\n",
            "\u001b[K\u001b[1m\u001b[32m   Compiling\u001b[0m ark-secp256k1 v0.4.0   ] 384/439: cairo-lang-semantic, ark-...\n",
            "\u001b[K\u001b[1m\u001b[32m   Compiling\u001b[0m diffy v0.3.0======>    ] 385/439: cairo-lang-semantic, ark-...\n",
            "\u001b[K\u001b[1m\u001b[32m   Compiling\u001b[0m tracing-log v0.2.0>    ] 386/439: cairo-lang-semantic, url,...\n",
            "\u001b[K\u001b[1m\u001b[32m   Compiling\u001b[0m cairo-lang-test-plugin v2.6.3 (/Users/galgantar/.cairo/crates/cairo-lang-test-plugin)\n",
            "\u001b[K\u001b[1m\u001b[32m   Compiling\u001b[0m sharded-slab v0.1.7>   ] 388/439: cairo-lang-semantic, cair...\n",
            "\u001b[K\u001b[1m\u001b[32m   Compiling\u001b[0m serde_repr v0.1.18=>   ] 389/439: cairo-lang-semantic, cair...\n",
            "\u001b[K\u001b[1m\u001b[32m   Compiling\u001b[0m thread_local v1.1.8>   ] 390/439: cairo-lang-semantic, cair...\n",
            "\u001b[K\u001b[1m\u001b[32m   Compiling\u001b[0m bitflags v1.3.2====>   ] 391/439: cairo-lang-semantic, cair...\n",
            "\u001b[K\u001b[1m\u001b[32m   Compiling\u001b[0m portable-atomic v1.6.0 ] 392/439: cairo-lang-semantic, cair...\n",
            "\u001b[K\u001b[1m\u001b[32m   Compiling\u001b[0m tower-layer v0.3.2=>   ] 393/439: cairo-lang-semantic, cair...\n",
            "\u001b[K\u001b[1m\u001b[32m   Compiling\u001b[0m tower-service v0.3.2   ] 394/439: cairo-lang-semantic, cair...\n",
            "\u001b[K\u001b[1m\u001b[32m   Compiling\u001b[0m tower v0.4.13======>   ] 395/439: cairo-lang-semantic, cair...\n",
            "\u001b[K\u001b[1m\u001b[32m   Compiling\u001b[0m lsp-types v0.94.1==>   ] 397/439: cairo-lang-semantic, cair...\n",
            "\u001b[K\u001b[1m\u001b[32m   Compiling\u001b[0m tracing-subscriber v0.3.1898/439: cairo-lang-semantic, cair...\n",
            "\u001b[K\u001b[1m\u001b[32m   Compiling\u001b[0m cairo-lang-formatter v2.6.3 (/Users/galgantar/.cairo/crates/cairo-lang-formatter)\n",
            "\u001b[K\u001b[1m\u001b[32m   Compiling\u001b[0m cairo-lang-runner v2.6.3 (/Users/galgantar/.cairo/crates/cairo-lang-runner)\n",
            "\u001b[K\u001b[1m\u001b[32m   Compiling\u001b[0m rayon v1.9.0=======>   ] 401/439: cairo-lang-semantic, cair...\n",
            "\u001b[K\u001b[1m\u001b[32m   Compiling\u001b[0m tokio-util v0.7.10=>   ] 402/439: cairo-lang-semantic, cair...\n",
            "\u001b[K\u001b[1m\u001b[32m   Compiling\u001b[0m futures v0.3.30=====>  ] 407/439: cairo-lang-semantic, cair...\n",
            "\u001b[K\u001b[1m\u001b[32m   Compiling\u001b[0m dashmap v5.5.3======>  ] 408/439: cairo-lang-semantic, cair...\n",
            "\u001b[K\u001b[1m\u001b[32m   Compiling\u001b[0m tower-lsp-macros v0.9.0] 409/439: cairo-lang-semantic, cair...\n",
            "\u001b[K\u001b[1m\u001b[32m   Compiling\u001b[0m auto_impl v1.2.0====>  ] 410/439: cairo-lang-semantic, cair...\n",
            "\u001b[K\u001b[1m\u001b[32m   Compiling\u001b[0m unicode-width v0.1.11  ] 411/439: cairo-lang-semantic, cair...\n",
            "\u001b[K\u001b[1m\u001b[32m   Compiling\u001b[0m console v0.15.8=====>  ] 412/439: cairo-lang-semantic, cair...\n",
            "\u001b[K\u001b[1m\u001b[32m   Compiling\u001b[0m tower-lsp v0.20.0===>  ] 413/439: cairo-lang-semantic, cair...\n",
            "\u001b[K\u001b[1m\u001b[32m   Compiling\u001b[0m scarb-metadata v1.11.1 ] 414/439: cairo-lang-semantic, cair...\n",
            "\u001b[K\u001b[1m\u001b[32m   Compiling\u001b[0m tracing-flame v0.2.0>  ] 415/439: cairo-lang-semantic, cair...\n",
            "\u001b[K\u001b[1m\u001b[32m   Compiling\u001b[0m number_prefix v0.4.0>  ] 417/439: cairo-lang-semantic, cair...\n",
            "\u001b[K\u001b[1m\u001b[32m   Compiling\u001b[0m indicatif v0.17.8===>  ] 418/439: cairo-lang-semantic, numb...\n",
            "\u001b[K\u001b[1m\u001b[32m   Compiling\u001b[0m cairo-lang-language-server v2.6.3 (/Users/galgantar/.cairo/crates/cairo-lang-language-server)\n",
            "\u001b[K\u001b[1m\u001b[32m   Compiling\u001b[0m cairo-lang-test-runner v2.6.3 (/Users/galgantar/.cairo/crates/cairo-lang-test-runner)\n",
            "\u001b[K\u001b[1m\u001b[32m   Compiling\u001b[0m starknet-sierra-upgrade-validate v2.6.3 (/Users/galgantar/.cairo/crates/bin/starknet-sierra-upgrade-validate)\n",
            "\u001b[K\u001b[1m\u001b[32m   Compiling\u001b[0m cairo-format v2.6.3 (/Users/galgantar/.cairo/crates/bin/cairo-format)\n",
            "\u001b[K\u001b[1m\u001b[32m   Compiling\u001b[0m starknet-sierra-compile v2.6.3 (/Users/galgantar/.cairo/crates/bin/starknet-sierra-compile)\n",
            "\u001b[K\u001b[1m\u001b[32m   Compiling\u001b[0m cairo-compile v2.6.3 (/Users/galgantar/.cairo/crates/bin/cairo-compile)\n",
            "\u001b[K\u001b[1m\u001b[32m   Compiling\u001b[0m starknet-compile v2.6.3 (/Users/galgantar/.cairo/crates/bin/starknet-compile)\n",
            "\u001b[K\u001b[1m\u001b[32m   Compiling\u001b[0m cairo-run v2.6.3 (/Users/galgantar/.cairo/crates/bin/cairo-run)\n",
            "\u001b[K\u001b[1m\u001b[32m   Compiling\u001b[0m get-lowering v2.6.3 (/Users/galgantar/.cairo/crates/bin/get-lowering)\n",
            "\u001b[K\u001b[1m\u001b[32m   Compiling\u001b[0m cairo-test v2.6.3 (/Users/galgantar/.cairo/crates/bin/cairo-test)\n",
            "\u001b[K\u001b[1m\u001b[32m   Compiling\u001b[0m sierra-compile v2.6.3 (/Users/galgantar/.cairo/crates/bin/sierra-compile)\n",
            "\u001b[K\u001b[1m\u001b[32m   Compiling\u001b[0m starknet-sierra-extract-code v2.6.3 (/Users/galgantar/.cairo/crates/bin/starknet-sierra-extract-code)\n",
            "\u001b[K\u001b[1m\u001b[32m   Compiling\u001b[0m generate-syntax v2.6.3 (/Users/galgantar/.cairo/crates/bin/generate-syntax)\n",
            "\u001b[K\u001b[1m\u001b[32m   Compiling\u001b[0m cairo-lang-test-utils v2.6.3 (/Users/galgantar/.cairo/crates/cairo-lang-test-utils)\n",
            "\u001b[K\u001b[1m\u001b[32m   Compiling\u001b[0m cairo-language-server v2.6.3 (/Users/galgantar/.cairo/crates/bin/cairo-language-server)\n",
            "\u001b[K\u001b[1m\u001b[32m    Finished\u001b[0m release [optimized] target(s) in 34m 09slanguage-server(bin)  \n"
          ]
        }
      ],
      "source": [
        "# Create .cairo folder if it doesn't exist yet\n",
        "! mkdir $HOME/.cairo\n",
        "\n",
        "! source \"$HOME/.cargo/env\"\n",
        "\n",
        "# Clone the Cairo compiler in $CAIRO_ROOT (default root)\n",
        "! cd $HOME/.cairo && git clone https://github.com/starkware-libs/cairo.git .\n",
        "\n",
        "# OPTIONAL/RECOMMENDED: If you want to install a specific version of the compiler\n",
        "# Fetch all tags (versions)\n",
        "! git fetch --all --tags\n",
        "# View tags (you can also do this in the cairo compiler repository)\n",
        "! git describe --tags `git rev-list --tags`\n",
        "# Checkout the version you want\n",
        "! git checkout tags/v1.1.0\n",
        "\n",
        "# Generate release binaries\n",
        "! cd $HOME/.cairo && $HOME/.cargo/bin/cargo build --all --release"
      ]
    },
    {
      "cell_type": "code",
      "execution_count": 4,
      "metadata": {},
      "outputs": [
        {
          "name": "stdout",
          "output_type": "stream",
          "text": [
            "scarb-install: retrieving latest version from https://github.com/software-mansion/scarb...\n",
            "scarb-install: downloading scarb-v2.6.3-x86_64-apple-darwin.tar.gz...\n",
            "  % Total    % Received % Xferd  Average Speed   Time    Time     Time  Current\n",
            "                                 Dload  Upload   Total   Spent    Left  Speed\n",
            "  0     0    0     0    0     0      0      0 --:--:-- --:--:-- --:--:--     0\n",
            "100 28.9M  100 28.9M    0     0  3452k      0  0:00:08  0:00:08 --:--:-- 2996k\n",
            "scarb-install: installed scarb to /Users/galgantar/.local/share/scarb-install/latest\n",
            "scarb-install: created symlink /Users/galgantar/.local/bin/scarb -> /Users/galgantar/.local/share/scarb-install/latest/bin/scarb\n",
            "\n",
            "Detected your preferred shell is zsh and added '$HOME/.local/bin' to PATH. Run 'source /Users/galgantar/.zshrc' or start a new terminal session to use Scarb.\n",
            "Then, run 'scarb --version' to verify your installation. Happy coding!\n"
          ]
        }
      ],
      "source": [
        "# Install Scarb\n",
        "! curl --proto '=https' --tlsv1.2 -sSf https://docs.swmansion.com/scarb/install.sh | sh"
      ]
    },
    {
      "attachments": {},
      "cell_type": "markdown",
      "metadata": {},
      "source": [
        "## Train and Test your Neural Network with Tensorflow\n",
        "In this section we will use Tensorflow to train and test a feedforward neural network with MNIST dataset."
      ]
    },
    {
      "attachments": {},
      "cell_type": "markdown",
      "metadata": {
        "id": "nKiq8oKxklon"
      },
      "source": [
        "### Dataset Preparation\n",
        "Import the required libraries and load the dataset."
      ]
    },
    {
      "cell_type": "code",
      "execution_count": 3,
      "metadata": {
        "id": "4po2PWTAkWOR"
      },
      "outputs": [],
      "source": [
        "import tensorflow_model_optimization as tfmot\n",
        "from tensorflow import keras\n",
        "from keras.datasets import mnist\n",
        "from scipy.ndimage import zoom\n",
        "import numpy as np\n",
        "\n",
        "(x_train, y_train), (x_test, y_test) = mnist.load_data()"
      ]
    },
    {
      "cell_type": "markdown",
      "metadata": {
        "id": "NXigQHM_k0ux"
      },
      "source": [
        "We have a total of 70,000 grayscale images, each with a dimension of 28 x 28 pixels. 60,000 images are for training and the remaining 10,000 are for testing. \n",
        "\n",
        "We now need to pre-process our data. For the purposes of this tutorial and performance, we'll resize the images to 14 x 14 pixels. You'll see later that the neural network's input layer supports a 1D tensor. We, therefore, need to flatten and normalize our data."
      ]
    },
    {
      "cell_type": "code",
      "execution_count": 4,
      "metadata": {
        "id": "6AwxawnnkaA5"
      },
      "outputs": [],
      "source": [
        "from scipy.ndimage import zoom\n",
        "\n",
        "# Resizing function\n",
        "def resize_images(images):\n",
        "    return np.array([zoom(image, 0.5) for image in images])\n",
        "\n",
        "# Resize\n",
        "x_train = resize_images(x_train)\n",
        "x_test = resize_images(x_test)\n",
        "\n",
        "# Then reshape\n",
        "x_train = x_train.reshape(60000, 14*14)\n",
        "x_test = x_test.reshape(10000, 14*14)\n",
        "x_train = x_train.astype('float32')\n",
        "x_test = x_test.astype('float32')\n",
        "\n",
        "# normalize to range [0, 1]\n",
        "x_train /= 255\n",
        "x_test /= 255"
      ]
    },
    {
      "attachments": {},
      "cell_type": "markdown",
      "metadata": {
        "id": "ix3qnUgElDlB"
      },
      "source": [
        "### Model Definition and Training\n",
        "We will design a straightforward feedforward neural network."
      ]
    },
    {
      "cell_type": "code",
      "execution_count": 6,
      "metadata": {
        "id": "7gilDCS6k9-u"
      },
      "outputs": [],
      "source": [
        "from tensorflow.keras import layers\n",
        "\n",
        "num_classes = 10\n",
        "\n",
        "model = keras.Sequential([\n",
        "    keras.layers.InputLayer(input_shape=(14*14,)),\n",
        "    keras.layers.Dense(10, activation='relu'), \n",
        "    keras.layers.Dense(10, activation='softmax')\n",
        "])\n",
        "\n",
        "model.compile(optimizer='adam', \n",
        "              loss='sparse_categorical_crossentropy', \n",
        "              metrics=['accuracy'])\n"
      ]
    },
    {
      "cell_type": "markdown",
      "metadata": {
        "id": "BFUZZOudlQmP"
      },
      "source": [
        "Now let's train this model on our training data."
      ]
    },
    {
      "cell_type": "code",
      "execution_count": 7,
      "metadata": {
        "id": "jjkH102GlOd2"
      },
      "outputs": [
        {
          "name": "stdout",
          "output_type": "stream",
          "text": [
            "Epoch 1/10\n",
            "1500/1500 [==============================] - 22s 3ms/step - loss: 0.7965 - accuracy: 0.7806 - val_loss: 0.3956 - val_accuracy: 0.8909\n",
            "Epoch 2/10\n",
            "1500/1500 [==============================] - 5s 3ms/step - loss: 0.3769 - accuracy: 0.8928 - val_loss: 0.3202 - val_accuracy: 0.9090\n",
            "Epoch 3/10\n",
            "1500/1500 [==============================] - 4s 3ms/step - loss: 0.3291 - accuracy: 0.9064 - val_loss: 0.2908 - val_accuracy: 0.9180\n",
            "Epoch 4/10\n",
            "1500/1500 [==============================] - 4s 3ms/step - loss: 0.3081 - accuracy: 0.9127 - val_loss: 0.2794 - val_accuracy: 0.9188\n",
            "Epoch 5/10\n",
            "1500/1500 [==============================] - 5s 3ms/step - loss: 0.2971 - accuracy: 0.9156 - val_loss: 0.2731 - val_accuracy: 0.9223\n",
            "Epoch 6/10\n",
            "1500/1500 [==============================] - 5s 4ms/step - loss: 0.2883 - accuracy: 0.9174 - val_loss: 0.2689 - val_accuracy: 0.9237\n",
            "Epoch 7/10\n",
            "1500/1500 [==============================] - 5s 3ms/step - loss: 0.2823 - accuracy: 0.9189 - val_loss: 0.2643 - val_accuracy: 0.9246\n",
            "Epoch 8/10\n",
            "1500/1500 [==============================] - 5s 3ms/step - loss: 0.2776 - accuracy: 0.9200 - val_loss: 0.2623 - val_accuracy: 0.9268\n",
            "Epoch 9/10\n",
            "1500/1500 [==============================] - 5s 3ms/step - loss: 0.2729 - accuracy: 0.9213 - val_loss: 0.2606 - val_accuracy: 0.9249\n",
            "Epoch 10/10\n",
            "1500/1500 [==============================] - 5s 3ms/step - loss: 0.2688 - accuracy: 0.9226 - val_loss: 0.2577 - val_accuracy: 0.9270\n"
          ]
        }
      ],
      "source": [
        "batch_size = 256\n",
        "epochs = 10\n",
        "history = model.fit(x_train, y_train,\n",
        "                    epochs=epochs,\n",
        "                    validation_split=0.2)\n"
      ]
    },
    {
      "cell_type": "markdown",
      "metadata": {
        "id": "uNRdKGpflar4"
      },
      "source": [
        "At this point, we have trained a regular model.\n",
        "\n"
      ]
    },
    {
      "attachments": {},
      "cell_type": "markdown",
      "metadata": {
        "id": "7Bu55FCqlbj4"
      },
      "source": [
        "### Making the Model Quantization Aware\n",
        "Now, let's transform our model into a quantization aware model. We use the TensorFlow Model Optimization Toolkit for this.\n"
      ]
    },
    {
      "cell_type": "code",
      "execution_count": 8,
      "metadata": {
        "id": "iAZYo9vKlTHK"
      },
      "outputs": [
        {
          "name": "stdout",
          "output_type": "stream",
          "text": [
            "Model: \"sequential_1\"\n",
            "_________________________________________________________________\n",
            " Layer (type)                Output Shape              Param #   \n",
            "=================================================================\n",
            " quantize_layer (QuantizeLa  (None, 196)               3         \n",
            " yer)                                                            \n",
            "                                                                 \n",
            " quant_dense_2 (QuantizeWra  (None, 10)                1975      \n",
            " pperV2)                                                         \n",
            "                                                                 \n",
            " quant_dense_3 (QuantizeWra  (None, 10)                115       \n",
            " pperV2)                                                         \n",
            "                                                                 \n",
            "=================================================================\n",
            "Total params: 2093 (8.18 KB)\n",
            "Trainable params: 2080 (8.12 KB)\n",
            "Non-trainable params: 13 (52.00 Byte)\n",
            "_________________________________________________________________\n"
          ]
        }
      ],
      "source": [
        "# import tensorflow_model_optimization as tfmot\n",
        "\n",
        "# Apply quantization to the layers\n",
        "quantize_model = tfmot.quantization.keras.quantize_model\n",
        "\n",
        "# q_aware stands for 'quantization aware'\n",
        "q_aware_model = quantize_model(model)\n",
        "\n",
        "# 'quantize_model' requires a recompile\n",
        "q_aware_model.compile(optimizer='adam',\n",
        "                      loss='sparse_categorical_crossentropy',\n",
        "                      metrics=['accuracy'])\n",
        "\n",
        "q_aware_model.summary()"
      ]
    },
    {
      "cell_type": "markdown",
      "metadata": {
        "id": "eYPUWWwTl_np"
      },
      "source": [
        "We have now created a new model, q_aware_model, which is a quantization aware version of our original model. Now we can train this model exactly like our original model."
      ]
    },
    {
      "cell_type": "code",
      "execution_count": 9,
      "metadata": {
        "id": "U-t5MPhGlqoI"
      },
      "outputs": [
        {
          "name": "stdout",
          "output_type": "stream",
          "text": [
            "Epoch 1/10\n",
            "1500/1500 [==============================] - 9s 4ms/step - loss: 0.2675 - accuracy: 0.9224 - val_loss: 0.2540 - val_accuracy: 0.9266\n",
            "Epoch 2/10\n",
            "1500/1500 [==============================] - 5s 3ms/step - loss: 0.2616 - accuracy: 0.9248 - val_loss: 0.2518 - val_accuracy: 0.9286\n",
            "Epoch 3/10\n",
            "1500/1500 [==============================] - 5s 3ms/step - loss: 0.2584 - accuracy: 0.9255 - val_loss: 0.2503 - val_accuracy: 0.9288\n",
            "Epoch 4/10\n",
            "1500/1500 [==============================] - 5s 3ms/step - loss: 0.2546 - accuracy: 0.9266 - val_loss: 0.2510 - val_accuracy: 0.9287\n",
            "Epoch 5/10\n",
            "1500/1500 [==============================] - 5s 3ms/step - loss: 0.2516 - accuracy: 0.9271 - val_loss: 0.2487 - val_accuracy: 0.9290\n",
            "Epoch 6/10\n",
            "1500/1500 [==============================] - 5s 4ms/step - loss: 0.2483 - accuracy: 0.9281 - val_loss: 0.2457 - val_accuracy: 0.9293\n",
            "Epoch 7/10\n",
            "1500/1500 [==============================] - 5s 3ms/step - loss: 0.2463 - accuracy: 0.9288 - val_loss: 0.2448 - val_accuracy: 0.9308\n",
            "Epoch 8/10\n",
            "1500/1500 [==============================] - 5s 3ms/step - loss: 0.2435 - accuracy: 0.9296 - val_loss: 0.2427 - val_accuracy: 0.9319\n",
            "Epoch 9/10\n",
            "1500/1500 [==============================] - 5s 3ms/step - loss: 0.2416 - accuracy: 0.9300 - val_loss: 0.2414 - val_accuracy: 0.9310\n",
            "Epoch 10/10\n",
            "1500/1500 [==============================] - 6s 4ms/step - loss: 0.2396 - accuracy: 0.9308 - val_loss: 0.2436 - val_accuracy: 0.9288\n",
            "Test loss: 0.24550746381282806\n",
            "Test accuracy: 0.9300000071525574\n"
          ]
        }
      ],
      "source": [
        "batch_size = 256\n",
        "epochs = 10\n",
        "history = q_aware_model.fit(x_train, y_train,\n",
        "                            epochs=epochs,\n",
        "                            validation_split=0.2)\n",
        "\n",
        "scores, acc = q_aware_model.evaluate(x_test, y_test, verbose=0)\n",
        "print('Test loss:', scores)\n",
        "print('Test accuracy:', acc)"
      ]
    },
    {
      "attachments": {},
      "cell_type": "markdown",
      "metadata": {
        "id": "XhbweTQEmWN-"
      },
      "source": [
        "### Converting to TFLite Format\n",
        "Now, we will convert our model to TFLite format, which is a format optimized for on-device machine learning."
      ]
    },
    {
      "cell_type": "code",
      "execution_count": 10,
      "metadata": {
        "id": "uOwZiCRWmHDT"
      },
      "outputs": [
        {
          "name": "stdout",
          "output_type": "stream",
          "text": [
            "INFO:tensorflow:Assets written to: /var/folders/cr/14yjwnk14zdcpjclx10yprwc0000gp/T/tmpi10mkw44/assets\n"
          ]
        },
        {
          "name": "stderr",
          "output_type": "stream",
          "text": [
            "INFO:tensorflow:Assets written to: /var/folders/cr/14yjwnk14zdcpjclx10yprwc0000gp/T/tmpi10mkw44/assets\n",
            "/Users/galgantar/Documents/Code/Giza-Hub/.venv/lib/python3.11/site-packages/tensorflow/lite/python/convert.py:964: UserWarning: Statistics for quantized inputs were expected, but not specified; continuing anyway.\n",
            "  warnings.warn(\n",
            "WARNING: All log messages before absl::InitializeLog() is called are written to STDERR\n",
            "W0000 00:00:1710548713.418737  399201 tf_tfl_flatbuffer_helpers.cc:390] Ignored output_format.\n",
            "W0000 00:00:1710548713.418787  399201 tf_tfl_flatbuffer_helpers.cc:393] Ignored drop_control_dependency.\n",
            "2024-03-16 00:25:13.419535: I tensorflow/cc/saved_model/reader.cc:83] Reading SavedModel from: /var/folders/cr/14yjwnk14zdcpjclx10yprwc0000gp/T/tmpi10mkw44\n",
            "2024-03-16 00:25:13.423832: I tensorflow/cc/saved_model/reader.cc:51] Reading meta graph with tags { serve }\n",
            "2024-03-16 00:25:13.423860: I tensorflow/cc/saved_model/reader.cc:146] Reading SavedModel debug info (if present) from: /var/folders/cr/14yjwnk14zdcpjclx10yprwc0000gp/T/tmpi10mkw44\n",
            "2024-03-16 00:25:13.456457: I tensorflow/compiler/mlir/mlir_graph_optimization_pass.cc:388] MLIR V1 optimization pass is not enabled\n",
            "2024-03-16 00:25:13.459928: I tensorflow/cc/saved_model/loader.cc:234] Restoring SavedModel bundle.\n",
            "2024-03-16 00:25:13.543197: I tensorflow/cc/saved_model/loader.cc:218] Running initialization op on SavedModel bundle at path: /var/folders/cr/14yjwnk14zdcpjclx10yprwc0000gp/T/tmpi10mkw44\n",
            "2024-03-16 00:25:13.566691: I tensorflow/cc/saved_model/loader.cc:317] SavedModel load for tags { serve }; Status: success: OK. Took 147179 microseconds.\n",
            "2024-03-16 00:25:13.609899: I tensorflow/compiler/mlir/tensorflow/utils/dump_mlir_util.cc:268] disabling MLIR crash reproducer, set env var `MLIR_CRASH_REPRODUCER_DIRECTORY` to enable.\n",
            "fully_quantize: 0, inference_type: 6, input_inference_type: INT8, output_inference_type: INT8\n"
          ]
        },
        {
          "data": {
            "text/plain": [
              "4392"
            ]
          },
          "execution_count": 10,
          "metadata": {},
          "output_type": "execute_result"
        }
      ],
      "source": [
        "import tensorflow as tf\n",
        "\n",
        "# Create a converter\n",
        "converter = tf.lite.TFLiteConverter.from_keras_model(q_aware_model)\n",
        "\n",
        "# Indicate that you want to perform default optimizations,\n",
        "# which include quantization\n",
        "converter.optimizations = [tf.lite.Optimize.DEFAULT]\n",
        "\n",
        "# Define a generator function that provides your test data's numpy arrays\n",
        "def representative_data_gen():\n",
        "  for i in range(500):\n",
        "    yield [x_test[i:i+1]]\n",
        "\n",
        "# Use the generator function to guide the quantization process\n",
        "converter.representative_dataset = representative_data_gen\n",
        "\n",
        "# Ensure that if any ops can't be quantized, the converter throws an error\n",
        "converter.target_spec.supported_ops = [tf.lite.OpsSet.TFLITE_BUILTINS_INT8]\n",
        "\n",
        "# Set the input and output tensors to int8\n",
        "converter.inference_input_type = tf.int8\n",
        "converter.inference_output_type = tf.int8\n",
        "\n",
        "# Convert the model\n",
        "tflite_model = converter.convert()\n",
        "\n",
        "# Save the model to disk\n",
        "open(\"q_aware_model.tflite\", \"wb\").write(tflite_model)"
      ]
    },
    {
      "attachments": {},
      "cell_type": "markdown",
      "metadata": {
        "id": "zxGWitSs3MAH"
      },
      "source": [
        "### Testing the Quantized Model\n",
        "Now that we have trained a quantization-aware model and converted it to the TFLite format, we can now perform inference using the TensorFlow Lite interpreter.\n"
      ]
    },
    {
      "cell_type": "markdown",
      "metadata": {
        "id": "8qbfjJFa3Zy7"
      },
      "source": [
        "We first load the TFLite model and allocate the required tensors. The Interpreter class provides methods for loading a model and running inferences.\n",
        "\n"
      ]
    },
    {
      "cell_type": "code",
      "execution_count": 11,
      "metadata": {
        "id": "sXEM3WEv3SSt"
      },
      "outputs": [
        {
          "name": "stderr",
          "output_type": "stream",
          "text": [
            "INFO: Created TensorFlow Lite XNNPACK delegate for CPU.\n"
          ]
        }
      ],
      "source": [
        "# Load the TFLite model and allocate tensors.\n",
        "interpreter = tf.lite.Interpreter(model_path=\"q_aware_model.tflite\")\n",
        "interpreter.allocate_tensors()"
      ]
    },
    {
      "cell_type": "markdown",
      "metadata": {
        "id": "mP6WRo1L3dZp"
      },
      "source": [
        "Next, we get the details of the input and output tensors. Each tensor in a TensorFlow Lite model has a name, index, shape, data type, and quantization parameters. These can be accessed via the input_details and output_details methods."
      ]
    },
    {
      "cell_type": "code",
      "execution_count": 12,
      "metadata": {
        "id": "T7r8JFTC3Xxe"
      },
      "outputs": [],
      "source": [
        "# Get input and output tensors.\n",
        "input_details = interpreter.get_input_details()\n",
        "output_details = interpreter.get_output_details()\n"
      ]
    },
    {
      "cell_type": "markdown",
      "metadata": {
        "id": "ofFMDXq13ix7"
      },
      "source": [
        "Before performing the inference, we need to normalize the input to match the data type of our model's input tensor, which in our case is int8. Then, we use the set_tensor method to provide the input data to the model. We perform the inference using the invoke method."
      ]
    },
    {
      "cell_type": "code",
      "execution_count": 13,
      "metadata": {
        "id": "-1yOJjl83b9i"
      },
      "outputs": [],
      "source": [
        "# Normalize the input value to int8\n",
        "input_shape = input_details[0]['shape']\n",
        "input_data = np.array(x_test[0:1], dtype=np.int8)\n",
        "interpreter.set_tensor(input_details[0]['index'], input_data)\n",
        "\n",
        "# Perform the inference\n",
        "interpreter.invoke()\n"
      ]
    },
    {
      "cell_type": "markdown",
      "metadata": {
        "id": "ge-Y3K1J3oWs"
      },
      "source": [
        "After the inference, we get the output data from the model's output tensor.\n",
        "\n",
        "Now, we are going to run the inference for the entire test set:"
      ]
    },
    {
      "cell_type": "code",
      "execution_count": 14,
      "metadata": {
        "id": "MtfTBPCl3iKm"
      },
      "outputs": [
        {
          "name": "stdout",
          "output_type": "stream",
          "text": [
            "[[-128 -128  -93  -80 -128  -49  -35 -128 -128 -128]]\n"
          ]
        }
      ],
      "source": [
        "# Get the result\n",
        "output_data = interpreter.get_tensor(output_details[0]['index'])\n",
        "print(output_data)\n"
      ]
    },
    {
      "cell_type": "markdown",
      "metadata": {
        "id": "JO9fwtAF3sRP"
      },
      "source": [
        "We normalize the entire test set and initialize an array to store the predictions.\n",
        "\n"
      ]
    },
    {
      "cell_type": "code",
      "execution_count": 15,
      "metadata": {
        "id": "B5fDA1Vt3num"
      },
      "outputs": [],
      "source": [
        "(_, _), (x_test_image, y_test_label) = mnist.load_data()\n",
        "\n",
        "# Resize and Normalize x_test_image to int8\n",
        "x_test_image = resize_images(x_test_image)\n",
        "x_test_image_norm = (x_test_image / 255.0 * 255 - 128).astype(np.int8)\n",
        "\n",
        "# Initialize an array to store the predictions\n",
        "predictions = []\n"
      ]
    },
    {
      "cell_type": "markdown",
      "metadata": {
        "id": "l1PzXSuj3uy9"
      },
      "source": [
        "We then iterate over the test set, making predictions for each image. For each image, we flatten the image, normalize it, and then expand its dimensions to match the shape of our model's input tensor.\n",
        "\n"
      ]
    },
    {
      "cell_type": "code",
      "execution_count": 16,
      "metadata": {
        "id": "z1Clh4Kt3fuF"
      },
      "outputs": [],
      "source": [
        "# Iterate over the test data and make predictions\n",
        "for i in range(len(x_test_image_norm)):\n",
        "    test_image = np.expand_dims(x_test_image_norm[i].flatten(), axis=0)\n",
        "    \n",
        "    # Set the value for the input tensor\n",
        "    interpreter.set_tensor(input_details[0]['index'], test_image)\n",
        "    \n",
        "    # Run the inference\n",
        "    interpreter.invoke()\n",
        "\n",
        "    output = interpreter.get_tensor(output_details[0]['index'])\n",
        "    predictions.append(output)\n"
      ]
    },
    {
      "attachments": {},
      "cell_type": "markdown",
      "metadata": {},
      "source": [
        "Finally, we use a function to plot the test images along with their predicted labels. This will give us a visual representation of how well our model is performing."
      ]
    },
    {
      "cell_type": "code",
      "execution_count": 18,
      "metadata": {
        "id": "5wWyve_E3uL8"
      },
      "outputs": [
        {
          "data": {
            "image/png": "[encoded data removed]",
            "text/plain": [
              "<Figure size 1200x1400 with 25 Axes>"
            ]
          },
          "metadata": {},
          "output_type": "display_data"
        }
      ],
      "source": [
        "import matplotlib.pyplot as plt\n",
        "\n",
        "def plot_images_labels_prediction(images,labels,idx,num=10):\n",
        "    fig=plt.gcf()\n",
        "    fig.set_size_inches(12, 14)\n",
        "    if num > 25: num=25\n",
        "    for i in range(0, num):\n",
        "        ax=plt.subplot(5, 5, i+1)\n",
        "        ax.imshow(images[idx], cmap='binary')\n",
        "        title=\"label=\" + str(labels[idx])\n",
        "        ax.set_title(title, fontsize=10)\n",
        "        ax.set_xticks([]);\n",
        "        ax.set_yticks([]);\n",
        "        idx += 1\n",
        "    plt.show()\n",
        "\n",
        "plot_images_labels_prediction(x_test_image, y_test_label, 0, 25)\n"
      ]
    },
    {
      "attachments": {},
      "cell_type": "markdown",
      "metadata": {
        "id": "VOHKHUMp30j8"
      },
      "source": [
        "That's it! We have successfully trained a quantization-aware model, converted it to the TFLite format, and performed inference using the TensorFlow Lite interpreter."
      ]
    },
    {
      "attachments": {},
      "cell_type": "markdown",
      "metadata": {
        "id": "ywhXM1mA-a7F"
      },
      "source": [
        "## Convert your model to Orion's Cairo code\n",
        "In this section you will generate Cairo files for each bias and weight of the model. "
      ]
    },
    {
      "cell_type": "code",
      "execution_count": 20,
      "metadata": {
        "id": "wP_kVSuEKA1U"
      },
      "outputs": [],
      "source": [
        "import numpy as np\n",
        "import tensorflow as tf\n",
        "import os\n",
        "\n",
        "\n",
        "# Load the TFLite model and allocate tensors.\n",
        "interpreter = tf.lite.Interpreter(model_path=\"q_aware_model.tflite\")\n",
        "interpreter.allocate_tensors()\n",
        "\n",
        "# Create an object with all tensors (an input + all weights and biases)\n",
        "tensors = {\n",
        "    \"input\": x_test_image[0].flatten(), #7\n",
        "    \"fc1_weights\": interpreter.get_tensor(1), \n",
        "    \"fc1_bias\": interpreter.get_tensor(2), \n",
        "    \"fc2_weights\": interpreter.get_tensor(4), \n",
        "    \"fc2_bias\": interpreter.get_tensor(5)\n",
        "}\n",
        "\n",
        "# Create the directory if it doesn't exist\n",
        "os.makedirs('src/generated', exist_ok=True)\n",
        "\n",
        "for tensor_name, tensor in tensors.items():\n",
        "    with open(os.path.join('src', 'generated', f\"{tensor_name}.cairo\"), \"w\") as f:\n",
        "        f.write(\n",
        "            \"use array::ArrayTrait;\\n\" +\n",
        "            \"use orion::operators::tensor::{TensorTrait, Tensor, I32Tensor};\\n\" +\n",
        "            \"use orion::numbers::i32;\\n\\n\" +\n",
        "            \"\\nfn {0}() -> Tensor<i32> \".format(tensor_name) + \"{\\n\" +\n",
        "            \"    let mut shape = ArrayTrait::<usize>::new();\\n\"\n",
        "        )\n",
        "        for dim in tensor.shape:\n",
        "            f.write(\"    shape.append({0});\\n\".format(dim))\n",
        "        f.write(\n",
        "            \"    let mut data = ArrayTrait::<i32>::new();\\n\"\n",
        "        )\n",
        "        for val in np.nditer(tensor.flatten()):\n",
        "            f.write(\"    data.append(i32 {{ mag: {0}, sign: {1} }});\\n\".format(abs(int(val)), str(val < 0).lower()))\n",
        "        f.write(\n",
        "            \"    TensorTrait::new(shape.span(), data.span())\\n\" +\n",
        "            \"}\\n\"\n",
        "        )\n",
        "      \n",
        "with open(os.path.join('src', 'generated.cairo'), 'w') as f:\n",
        "    for param_name in tensors.keys():\n",
        "        f.write(f\"mod {param_name};\\n\")\n"
      ]
    },
    {
      "attachments": {},
      "cell_type": "markdown",
      "metadata": {
        "id": "iobaWNzdW4Jq"
      },
      "source": [
        "## Build your NN with Cairo and Orion\n",
        "In this section you will perform inference with Cairo and Orion.\n"
      ]
    },
    {
      "attachments": {},
      "cell_type": "markdown",
      "metadata": {},
      "source": [
        "Create the `nn.cairo` file in which we'll build the neural network functions."
      ]
    },
    {
      "cell_type": "code",
      "execution_count": 21,
      "metadata": {
        "id": "x2slaqnnUWlB"
      },
      "outputs": [],
      "source": [
        "! touch src/nn.cairo"
      ]
    },
    {
      "attachments": {},
      "cell_type": "markdown",
      "metadata": {},
      "source": [
        "Let's create the two dense layer functions of the neural network: `fc1` and `fc2`."
      ]
    },
    {
      "cell_type": "code",
      "execution_count": 22,
      "metadata": {
        "id": "UMF0u2gcUko9"
      },
      "outputs": [
        {
          "name": "stdout",
          "output_type": "stream",
          "text": [
            "Overwriting src/nn.cairo\n"
          ]
        }
      ],
      "source": [
        "%%writefile src/nn.cairo\n",
        "use orion::operators::tensor::core::Tensor;\n",
        "use orion::numbers::signed_integer::{integer_trait::IntegerTrait, i32::i32};\n",
        "use orion::operators::nn::{NNTrait, I32NN};\n",
        "\n",
        "fn fc1(i: Tensor<i32>, w: Tensor<i32>, b: Tensor<i32>) -> Tensor<i32> {\n",
        "    let x = NNTrait::linear(i, w, b);\n",
        "    NNTrait::relu(@x)\n",
        "}\n",
        "\n",
        "fn fc2(i: Tensor<i32>, w: Tensor<i32>, b: Tensor<i32>) -> Tensor<i32> {\n",
        "    NNTrait::linear(i, w, b)\n",
        "}\n"
      ]
    },
    {
      "attachments": {},
      "cell_type": "markdown",
      "metadata": {},
      "source": [
        "We will make predictions in a test. First, create the testing file."
      ]
    },
    {
      "cell_type": "code",
      "execution_count": 23,
      "metadata": {
        "id": "OF8ANN0IU0BL"
      },
      "outputs": [],
      "source": [
        "! touch src/test.cairo"
      ]
    },
    {
      "attachments": {},
      "cell_type": "markdown",
      "metadata": {},
      "source": [
        "Let's now define the input data and parameters generated earlier, and set the neural network.\n",
        "The input data represents the number 7. The probability at index 7 must therefore be close to 1."
      ]
    },
    {
      "cell_type": "code",
      "execution_count": 24,
      "metadata": {
        "id": "FsWjlfyeWJF8"
      },
      "outputs": [
        {
          "name": "stdout",
          "output_type": "stream",
          "text": [
            "Overwriting src/test.cairo\n"
          ]
        }
      ],
      "source": [
        "%%writefile src/test.cairo\n",
        "use core::array::SpanTrait;\n",
        "\n",
        "use mnist_nn::nn::fc1;\n",
        "use mnist_nn::nn::fc2;\n",
        "use mnist_nn::generated::input::input;\n",
        "use mnist_nn::generated::fc1_bias::fc1_bias;\n",
        "use mnist_nn::generated::fc1_weights::fc1_weights;\n",
        "use mnist_nn::generated::fc2_bias::fc2_bias;\n",
        "use mnist_nn::generated::fc2_weights::fc2_weights;\n",
        "\n",
        "use orion::operators::tensor::I32Tensor;\n",
        "\n",
        "#[test]\n",
        "#[available_gas(99999999999999999)]\n",
        "fn mnist_nn_test() {\n",
        "    let input = input();\n",
        "    let fc1_bias = fc1_bias();\n",
        "    let fc1_weights = fc1_weights();\n",
        "    let fc2_bias = fc2_bias();\n",
        "    let fc2_weights = fc2_weights();\n",
        "\n",
        "    let x = fc1(input, fc1_weights, fc1_bias);\n",
        "    let x = fc2(x, fc2_weights, fc2_bias);\n",
        "\n",
        "    let x = *x.argmax(0, Option::None(()), Option::None(())).data.at(0);\n",
        "\n",
        "    assert(x == 7, 'should predict 7');\n",
        "}\n",
        "\n"
      ]
    },
    {
      "attachments": {},
      "cell_type": "markdown",
      "metadata": {},
      "source": [
        "Run the following cell to test your file."
      ]
    },
    {
      "cell_type": "code",
      "execution_count": 25,
      "metadata": {
        "id": "lkep4mVkWMtS"
      },
      "outputs": [
        {
          "name": "stdout",
          "output_type": "stream",
          "text": [
            "zsh:1: command not found: scarb\n"
          ]
        }
      ],
      "source": [
        "! scarb run test"
      ]
    },
    {
      "cell_type": "code",
      "execution_count": null,
      "metadata": {},
      "outputs": [],
      "source": []
    }
  ],
  "metadata": {
    "colab": {
      "provenance": []
    },
    "kernelspec": {
      "display_name": "Python 3",
      "name": "python3"
    },
    "language_info": {
      "codemirror_mode": {
        "name": "ipython",
        "version": 3
      },
      "file_extension": ".py",
      "mimetype": "text/x-python",
      "name": "python",
      "nbconvert_exporter": "python",
      "pygments_lexer": "ipython3",
      "version": "3.11.6"
    }
  },
  "nbformat": 4,
  "nbformat_minor": 0
}
